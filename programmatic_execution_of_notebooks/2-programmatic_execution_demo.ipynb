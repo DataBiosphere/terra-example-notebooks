{
 "cells": [
  {
   "cell_type": "markdown",
   "metadata": {},
   "source": [
    "# Programmatic Notebook Execution Demo\n",
    "\n",
    "In this notebook, we:\n",
    "\n",
    "* Generate a set of normally distributed samples\n",
    "* Plot a histogram of these samples\n",
    "* Save the samples to a CSV file\n",
    "* Save the plot to a PNG file\n",
    "\n",
    "This notebook uses [Papermill parameters](https://papermill.readthedocs.io/en/latest/usage-parameterize.html) to shape the distribution, specify properties of the plot, and name the resulting output files."
   ]
  },
  {
   "cell_type": "code",
   "execution_count": null,
   "metadata": {},
   "outputs": [],
   "source": [
    "import numpy as np\n",
    "import pandas as pd\n",
    "import plotnine as p9"
   ]
  },
  {
   "cell_type": "markdown",
   "metadata": {},
   "source": [
    "## Papermill Parameters\n",
    "\n",
    "This next cell contains [Papermill parameters](https://papermill.readthedocs.io/en/latest/usage-parameterize.html). You'll notice it has a `parameters` cell tag. You can set cell tags by using the `View` > `Cell Toolbar` > `Tags` menu option.\n",
    "\n",
    "* Use the `MEAN` and `STD_DEV` parameters to set the mean and standard deviation of the normal distribution from which we are sampling.\n",
    "* Use `SAMPLES` to set the number of generated samples.  \n",
    "\n",
    "* Use `HISTOGRAM_BINS` to set the number of bins used in the histogram.\n",
    "\n",
    "* Use `OUTPUT_FILE_BASENAME` parameter to name your CSV and PNG output files. If you leave it unset, the output files will default to `normal.csv` and `normal.png`.\n"
   ]
  },
  {
   "cell_type": "code",
   "execution_count": null,
   "metadata": {
    "tags": [
     "parameters"
    ]
   },
   "outputs": [],
   "source": [
    "MEAN = 0.0\n",
    "STD_DEV = 1.0\n",
    "SAMPLES = 500\n",
    "HISTOGRAM_BINS = 20\n",
    "OUTPUT_FILE_BASENAME = 'normal'"
   ]
  },
  {
   "cell_type": "markdown",
   "metadata": {},
   "source": [
    "## Sample from the normal distribution"
   ]
  },
  {
   "cell_type": "code",
   "execution_count": null,
   "metadata": {},
   "outputs": [],
   "source": [
    "dist = pd.DataFrame(np.random.normal(loc=MEAN, scale=STD_DEV, size=(SAMPLES)), columns=['samples'])\n",
    "dist"
   ]
  },
  {
   "cell_type": "markdown",
   "metadata": {},
   "source": [
    "## Plot a histogram of the samples"
   ]
  },
  {
   "cell_type": "code",
   "execution_count": null,
   "metadata": {},
   "outputs": [],
   "source": [
    "plot = (\n",
    "    p9.ggplot(dist, p9.aes(x='samples'))\n",
    "    + p9.geom_histogram(bins=HISTOGRAM_BINS))\n",
    "\n",
    "print(plot)"
   ]
  },
  {
   "cell_type": "markdown",
   "metadata": {},
   "source": [
    "## Save the samples and plot as CSV and PNG files"
   ]
  },
  {
   "cell_type": "code",
   "execution_count": null,
   "metadata": {},
   "outputs": [],
   "source": [
    "dist.to_csv(f'{OUTPUT_FILE_BASENAME}.csv', index=False)\n",
    "plot.save(filename=f'{OUTPUT_FILE_BASENAME}.png', dpi=300)"
   ]
  }
 ],
 "metadata": {
  "celltoolbar": "Tags",
  "kernelspec": {
   "display_name": "Python 3",
   "language": "python",
   "name": "python3"
  },
  "language_info": {
   "codemirror_mode": {
    "name": "ipython",
    "version": 3
   },
   "file_extension": ".py",
   "mimetype": "text/x-python",
   "name": "python",
   "nbconvert_exporter": "python",
   "pygments_lexer": "ipython3",
   "version": "3.7.12"
  },
  "toc": {
   "base_numbering": 1,
   "nav_menu": {},
   "number_sections": true,
   "sideBar": true,
   "skip_h1_title": false,
   "title_cell": "Table of Contents",
   "title_sidebar": "Contents",
   "toc_cell": false,
   "toc_position": {},
   "toc_section_display": true,
   "toc_window_display": false
  }
 },
 "nbformat": 4,
 "nbformat_minor": 2
}
