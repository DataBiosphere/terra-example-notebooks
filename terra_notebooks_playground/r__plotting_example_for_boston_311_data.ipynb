{
 "cells": [
  {
   "cell_type": "markdown",
   "metadata": {},
   "source": [
    "# Plotting example for Boston 311 data\n",
    "\n",
    "In this notebook we plot Boston's 311 data onto a map of Boston."
   ]
  },
  {
   "cell_type": "markdown",
   "metadata": {},
   "source": [
    "Data via https://data.boston.gov/dataset/311-service-requests"
   ]
  },
  {
   "cell_type": "markdown",
   "metadata": {},
   "source": [
    "## Setup"
   ]
  },
  {
   "cell_type": "code",
   "execution_count": null,
   "metadata": {},
   "outputs": [],
   "source": [
    "lapply(c('hexbin', 'skimr'),\n",
    "       function(pkg) { if(! pkg %in% installed.packages()) { install.packages(pkg)} } )"
   ]
  },
  {
   "cell_type": "code",
   "execution_count": null,
   "metadata": {},
   "outputs": [],
   "source": [
    "library(httr)\n",
    "library(skimr)\n",
    "library(tidyverse)"
   ]
  },
  {
   "cell_type": "code",
   "execution_count": null,
   "metadata": {},
   "outputs": [],
   "source": [
    "options(repr.plot.height = 14, repr.plot.width = 14)\n",
    "theme_set(theme_gray(base_size = 18))"
   ]
  },
  {
   "cell_type": "code",
   "execution_count": null,
   "metadata": {},
   "outputs": [],
   "source": [
    "NUMBER_OF_LOCALITY_BINS = 90"
   ]
  },
  {
   "cell_type": "markdown",
   "metadata": {},
   "source": [
    "# Download data"
   ]
  },
  {
   "cell_type": "markdown",
   "metadata": {},
   "source": [
    "Data comes via a link from https://data.boston.gov/dataset/311-service-requests\n",
    "It yields a 403 error but that page with the 403 also provides you with a resolved URL that \n",
    "contains a session token to download the raw data. By parsing the header, you can extract that \n",
    "resolved URL."
   ]
  },
  {
   "cell_type": "code",
   "execution_count": null,
   "metadata": {},
   "outputs": [],
   "source": [
    "lookup <- HEAD(\"https://data.boston.gov/dataset/8048697b-ad64-4bfc-b090-ee00169f2323/resource/2be28d90-3a90-4af1-a3f6-f28c1e25880a/download/311_service_requests_2018.csv\")\n",
    "resolved_url <- ((lookup$all_headers[[1]])$headers)$location"
   ]
  },
  {
   "cell_type": "code",
   "execution_count": null,
   "metadata": {},
   "outputs": [],
   "source": [
    "dat <- read_csv(resolved_url)"
   ]
  },
  {
   "cell_type": "code",
   "execution_count": null,
   "metadata": {},
   "outputs": [],
   "source": [
    "print(skim(dat))"
   ]
  },
  {
   "cell_type": "code",
   "execution_count": null,
   "metadata": {},
   "outputs": [],
   "source": [
    "head(dat)"
   ]
  },
  {
   "cell_type": "markdown",
   "metadata": {},
   "source": [
    "# Examine count of reports per locality"
   ]
  },
  {
   "cell_type": "code",
   "execution_count": null,
   "metadata": {},
   "outputs": [],
   "source": [
    "ggplot(dat) +\n",
    "  geom_hex(aes(longitude, latitude, col=..count..), bins = NUMBER_OF_LOCALITY_BINS)"
   ]
  },
  {
   "cell_type": "code",
   "execution_count": null,
   "metadata": {},
   "outputs": [],
   "source": [
    "ggplot(dat[dat$longitude < -71.058 & dat$longitude > -71.059 & dat$latitude < 42.36 & dat$latitude > 42.359,]) +\n",
    "  geom_hex(aes(longitude, latitude, col=..count..), bins = NUMBER_OF_LOCALITY_BINS)"
   ]
  },
  {
   "cell_type": "code",
   "execution_count": null,
   "metadata": {},
   "outputs": [],
   "source": [
    "length(dat[dat$latitude==42.3594 & dat$longitude==-71.0587,1])"
   ]
  },
  {
   "cell_type": "markdown",
   "metadata": {},
   "source": [
    "It looks like any report without GPS coordinates gets assigned to City Hall.\n",
    "\n",
    "Let's remove City Hall and see how the report density actually varies:"
   ]
  },
  {
   "cell_type": "code",
   "execution_count": null,
   "metadata": {},
   "outputs": [],
   "source": [
    "notCityHall <- dat[!(dat$latitude==42.3594 & dat$longitude==-71.0587),]"
   ]
  },
  {
   "cell_type": "code",
   "execution_count": null,
   "metadata": {},
   "outputs": [],
   "source": [
    "ggplot(notCityHall) +\n",
    "  geom_hex(aes(longitude, latitude, col=..count..), bins = NUMBER_OF_LOCALITY_BINS)"
   ]
  },
  {
   "cell_type": "markdown",
   "metadata": {},
   "source": [
    "# Needle pickup requests"
   ]
  },
  {
   "cell_type": "code",
   "execution_count": null,
   "metadata": {},
   "outputs": [],
   "source": [
    "needleCases <- notCityHall[grep(\"Needle\", notCityHall$case_title), ]"
   ]
  },
  {
   "cell_type": "code",
   "execution_count": null,
   "metadata": {},
   "outputs": [],
   "source": [
    "nrow(needleCases)"
   ]
  },
  {
   "cell_type": "code",
   "execution_count": null,
   "metadata": {},
   "outputs": [],
   "source": [
    "ggplot(needleCases) +\n",
    "  geom_hex(aes(longitude, latitude, col=..count..), bins = NUMBER_OF_LOCALITY_BINS) + \n",
    "  scale_colour_gradient(low = \"blue\", high = \"orange\") +\n",
    "  scale_fill_gradient(low = \"blue\", high = \"orange\") +\n",
    "  ggtitle(\"BOS311 Needle reports\")"
   ]
  },
  {
   "cell_type": "code",
   "execution_count": null,
   "metadata": {},
   "outputs": [],
   "source": [
    "ggplot(needleCases[with(needleCases, latitude>42.33 & latitude < 42.34 & longitude > -71.085 & longitude < -71.06),]) +\n",
    "  geom_hex(aes(longitude, latitude, col=..count..), bins=60) + \n",
    "  scale_colour_gradient(low = \"blue\", high = \"orange\") +\n",
    "  scale_fill_gradient(low = \"blue\", high = \"orange\") +\n",
    "  ggtitle(\"BOS311 Needle report hotspot\")"
   ]
  },
  {
   "cell_type": "code",
   "execution_count": null,
   "metadata": {},
   "outputs": [],
   "source": [
    "# Note: this is a failed overlay of the generic request density map and the needle pickup map\n",
    "ggplot(notCityHall) + \n",
    "  geom_hex(aes(longitude, latitude, alpha=0.5, col=..count..), bins = NUMBER_OF_LOCALITY_BINS) +\n",
    "  geom_hex(data=needleCases, aes(longitude, latitude, alpha=0.5, col=..count..), bins = NUMBER_OF_LOCALITY_BINS) +\n",
    "  scale_colour_gradient(low = \"blue\", high = \"orange\") +\n",
    "  scale_fill_gradient(low = \"blue\", high = \"orange\")"
   ]
  },
  {
   "cell_type": "markdown",
   "metadata": {},
   "source": [
    "# What else can we plot?"
   ]
  },
  {
   "cell_type": "code",
   "execution_count": null,
   "metadata": {},
   "outputs": [],
   "source": [
    "top_case_types <- notCityHall %>%\n",
    "    group_by(type) %>%\n",
    "    summarize(\n",
    "        count = n()\n",
    "    ) %>%\n",
    "    arrange(desc(count)) %>%\n",
    "    head(n=20)\n",
    "\n",
    "top_case_types"
   ]
  },
  {
   "cell_type": "code",
   "execution_count": null,
   "metadata": {},
   "outputs": [],
   "source": [
    "plotBOS <- function(df, case_type) {\n",
    "  p <- ggplot(notCityHall %>% filter(type == case_type)) +\n",
    "    geom_hex(aes(longitude, latitude, col=..count..), bins = NUMBER_OF_LOCALITY_BINS) + \n",
    "    scale_colour_gradient(low = \"blue\", high = \"orange\") +\n",
    "    scale_fill_gradient(low = \"blue\", high = \"orange\") +\n",
    "    ggtitle(case_type)\n",
    "  print(p)\n",
    "}"
   ]
  },
  {
   "cell_type": "code",
   "execution_count": null,
   "metadata": {},
   "outputs": [],
   "source": [
    "for (x in top_case_types$type) {\n",
    "    plotBOS(notCityHall, case_type = x)\n",
    "}"
   ]
  },
  {
   "cell_type": "markdown",
   "metadata": {},
   "source": [
    "# Provenance"
   ]
  },
  {
   "cell_type": "code",
   "execution_count": null,
   "metadata": {},
   "outputs": [],
   "source": [
    "devtools::session_info()"
   ]
  },
  {
   "cell_type": "markdown",
   "metadata": {},
   "source": [
    "Copyright 2018 The Broad Institute, Inc., Verily Life Sciences, LLC All rights reserved.\n",
    "\n",
    "This software may be modified and distributed under the terms of the BSD license. See the LICENSE file for details."
   ]
  }
 ],
 "metadata": {
  "kernelspec": {
   "display_name": "R",
   "language": "R",
   "name": "ir"
  },
  "language_info": {
   "codemirror_mode": "r",
   "file_extension": ".r",
   "mimetype": "text/x-r-source",
   "name": "R",
   "pygments_lexer": "r",
   "version": "4.0.5"
  },
  "toc": {
   "base_numbering": 1,
   "nav_menu": {},
   "number_sections": true,
   "sideBar": true,
   "skip_h1_title": false,
   "title_cell": "Table of Contents",
   "title_sidebar": "Contents",
   "toc_cell": false,
   "toc_position": {
    "height": "calc(100% - 180px)",
    "left": "10px",
    "top": "150px",
    "width": "291px"
   },
   "toc_section_display": true,
   "toc_window_display": true
  }
 },
 "nbformat": 4,
 "nbformat_minor": 2
}
