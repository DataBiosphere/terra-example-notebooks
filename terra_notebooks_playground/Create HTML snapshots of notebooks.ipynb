{
 "cells": [
  {
   "cell_type": "markdown",
   "metadata": {},
   "source": [
    "# HTML snapshots of notebooks\n",
    "\n",
    "This notebook displays a notebook-based user interface that allows notebook users to track how results in our notebooks change over time.\n",
    "\n",
    "To do this, it renders the notebook of interest to an HTML file (without re-running the notebook) and then copies that HTML file to folder underneath the workspace bucket."
   ]
  },
  {
   "cell_type": "markdown",
   "metadata": {},
   "source": [
    "# Display the UI "
   ]
  },
  {
   "cell_type": "code",
   "execution_count": null,
   "metadata": {},
   "outputs": [],
   "source": [
    "from terra_widgets.html_snapshots import display_html_snapshots_widget"
   ]
  },
  {
   "cell_type": "markdown",
   "metadata": {},
   "source": [
    "<div class=\"alert alert-block alert-info\">\n",
    "    <b>Give it a try!</b>\n",
    "    <ol>\n",
    "        <li>Run the setup section below. <b>Then</b> come back up here to play with the UI.</li>\n",
    "        <li>First try 'Create' at least once. (Or as much as you like!)</li>\n",
    "        <li>Then try 'View all' to see your comments.</li>\n",
    "        <li>Lastly, try 'View one' to view the HTML snapshot inline within this notebook.</li>\n",
    "    </ol>\n",
    "</div>\n"
   ]
  },
  {
   "cell_type": "code",
   "execution_count": null,
   "metadata": {},
   "outputs": [],
   "source": [
    "display_html_snapshots_widget()"
   ]
  },
  {
   "cell_type": "markdown",
   "metadata": {},
   "source": [
    "# Setup - only need to run this once\n",
    "\n",
    "This section installs the Python package for the 'HTML snapshots' functionality."
   ]
  },
  {
   "cell_type": "markdown",
   "metadata": {},
   "source": [
    "## Get the code "
   ]
  },
  {
   "cell_type": "code",
   "execution_count": null,
   "metadata": {},
   "outputs": [],
   "source": [
    "%%bash \n",
    "if [ -d \"./workbench-snippets\" ] ; then\n",
    "    cd workbench-snippets\n",
    "    git checkout master\n",
    "    git pull\n",
    "    git log | head\n",
    "    git status\n",
    "else\n",
    "    git clone https://github.com/all-of-us/workbench-snippets.git\n",
    "    cd workbench-snippets\n",
    "    git checkout master\n",
    "    git log | head\n",
    "fi"
   ]
  },
  {
   "cell_type": "markdown",
   "metadata": {},
   "source": [
    "## Install the code in the Python path "
   ]
  },
  {
   "cell_type": "code",
   "execution_count": null,
   "metadata": {},
   "outputs": [],
   "source": [
    "%%bash\n",
    "\n",
    "cd workbench-snippets/py\n",
    "pip3 install -U --no-deps ."
   ]
  },
  {
   "cell_type": "markdown",
   "metadata": {},
   "source": [
    "Copyright 2020 The Broad Institute, Inc., Verily Life Sciences, LLC All rights reserved.\n",
    "\n",
    "This software may be modified and distributed under the terms of the BSD license. See the LICENSE file for details."
   ]
  }
 ],
 "metadata": {
  "kernelspec": {
   "display_name": "Python 3",
   "language": "python",
   "name": "python3"
  },
  "language_info": {
   "codemirror_mode": {
    "name": "ipython",
    "version": 3
   },
   "file_extension": ".py",
   "mimetype": "text/x-python",
   "name": "python",
   "nbconvert_exporter": "python",
   "pygments_lexer": "ipython3",
   "version": "3.7.10"
  },
  "toc": {
   "base_numbering": 1,
   "nav_menu": {},
   "number_sections": true,
   "sideBar": true,
   "skip_h1_title": false,
   "title_cell": "Table of Contents",
   "title_sidebar": "Contents",
   "toc_cell": false,
   "toc_position": {
    "height": "calc(100% - 180px)",
    "left": "10px",
    "top": "150px",
    "width": "236.889px"
   },
   "toc_section_display": true,
   "toc_window_display": true
  }
 },
 "nbformat": 4,
 "nbformat_minor": 2
}
