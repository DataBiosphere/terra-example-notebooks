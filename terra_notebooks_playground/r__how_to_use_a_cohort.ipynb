{
 "cells": [
  {
   "cell_type": "markdown",
   "metadata": {},
   "source": [
    "# How to use a cohort\n",
    "This notebook shows how to use a cohort saved from Data Explorer.\n",
    "\n",
    "It uses a cohort saved in the [Terra Notebooks Playground workspace](https://app.terra.bio/#workspaces/help-gatk/Terra%20Notebooks%20Playground/data)."
   ]
  },
  {
   "cell_type": "markdown",
   "metadata": {},
   "source": [
    "# Setup"
   ]
  },
  {
   "cell_type": "code",
   "execution_count": null,
   "metadata": {},
   "outputs": [],
   "source": [
    "library(reticulate)\n",
    "library(bigrquery)\n",
    "library(ggplot2)"
   ]
  },
  {
   "cell_type": "code",
   "execution_count": null,
   "metadata": {},
   "outputs": [],
   "source": [
    "BILLING_PROJECT_ID <- Sys.getenv('GOOGLE_PROJECT')"
   ]
  },
  {
   "cell_type": "markdown",
   "metadata": {},
   "source": [
    "# Get the cohort query"
   ]
  },
  {
   "cell_type": "markdown",
   "metadata": {},
   "source": [
    "If you look at the data tab in workspace [Terra Notebooks Playground](https://app.terra.bio/#workspaces/help-gatk/Terra%20Notebooks%20Playground/data) you can see that someone used [data explorer web user interface](https://test-data-explorer.appspot.com/) to define and create a cohort containing a subset of the samples in the 1,000 Genomes dataset.\n",
    "\n",
    "In this notebook we use the [firecloud api](https://api.firecloud.org/) to programmatically retrieve the definition of that cohort. This returns an auto generated SQL query which was the result of the users interaction with Data Explorer.\n"
   ]
  },
  {
   "cell_type": "code",
   "execution_count": null,
   "metadata": {},
   "outputs": [],
   "source": [
    "fapi <- import('firecloud.api')"
   ]
  },
  {
   "cell_type": "code",
   "execution_count": null,
   "metadata": {},
   "outputs": [],
   "source": [
    "# Hard-code instead of use WORKSPACE_NAMESPACE/WORKSPACE_NAME, since other workspaces\n",
    "# won't have the 1000g_americans cohort.\n",
    "ws_namespace <- 'help-gatk'\n",
    "ws_name <- 'Terra Notebooks Playground'\n",
    "\n",
    "cohort_query <- fapi$get_entity(ws_namespace, ws_name, 'cohort', '1000g_americans')$json()$attributes$query\n",
    "print(cohort_query)"
   ]
  },
  {
   "cell_type": "markdown",
   "metadata": {},
   "source": [
    "# Call BigQuery"
   ]
  },
  {
   "cell_type": "markdown",
   "metadata": {},
   "source": [
    "We then use the query from the cohort."
   ]
  },
  {
   "cell_type": "code",
   "execution_count": null,
   "metadata": {},
   "outputs": [],
   "source": [
    "cohort_table <- bigrquery::bq_project_query(\n",
    "    BILLING_PROJECT_ID,\n",
    "    cohort_query\n",
    ")\n",
    "cohort_df <- bigrquery::bq_table_download(cohort_table)\n",
    "dim(cohort_df)"
   ]
  },
  {
   "cell_type": "code",
   "execution_count": null,
   "metadata": {},
   "outputs": [],
   "source": [
    "head(cohort_df)"
   ]
  },
  {
   "cell_type": "markdown",
   "metadata": {},
   "source": [
    "# Join with another table"
   ]
  },
  {
   "cell_type": "code",
   "execution_count": null,
   "metadata": {},
   "outputs": [],
   "source": [
    "query <- '\n",
    "SELECT\n",
    "    DISTINCT participant_id,\n",
    "    Gender\n",
    "FROM\n",
    "    `verily-public-data.human_genome_variants.1000_genomes_participant_info`\n",
    "'\n",
    "cohort_info_table <- bigrquery::bq_project_query(\n",
    "    BILLING_PROJECT_ID,\n",
    "    query\n",
    ")\n",
    "cohort_info_df <- bigrquery::bq_table_download(cohort_info_table)\n",
    "dim(cohort_info_df)"
   ]
  },
  {
   "cell_type": "code",
   "execution_count": null,
   "metadata": {},
   "outputs": [],
   "source": [
    "merged_df <- merge(x = cohort_df, y = cohort_info_df, by = 'participant_id', all.x = TRUE)\n",
    "dim(merged_df)"
   ]
  },
  {
   "cell_type": "markdown",
   "metadata": {},
   "source": [
    "# Plot"
   ]
  },
  {
   "cell_type": "code",
   "execution_count": null,
   "metadata": {},
   "outputs": [],
   "source": [
    "table(merged_df$Gender)"
   ]
  },
  {
   "cell_type": "code",
   "execution_count": null,
   "metadata": {},
   "outputs": [],
   "source": [
    "ggplot(merged_df, aes(Gender)) + geom_bar()"
   ]
  },
  {
   "cell_type": "markdown",
   "metadata": {},
   "source": [
    "# Provenance"
   ]
  },
  {
   "cell_type": "code",
   "execution_count": null,
   "metadata": {},
   "outputs": [],
   "source": [
    "devtools::session_info()"
   ]
  },
  {
   "cell_type": "markdown",
   "metadata": {},
   "source": [
    "Copyright 2019 The Broad Institute, Inc., Verily Life Sciences, LLC All rights reserved.\n",
    "\n",
    "This software may be modified and distributed under the terms of the BSD license. See the LICENSE file for details."
   ]
  }
 ],
 "metadata": {
  "kernelspec": {
   "display_name": "R",
   "language": "R",
   "name": "ir"
  },
  "language_info": {
   "codemirror_mode": "r",
   "file_extension": ".r",
   "mimetype": "text/x-r-source",
   "name": "R",
   "pygments_lexer": "r",
   "version": "4.0.5"
  },
  "toc": {
   "base_numbering": 1,
   "nav_menu": {},
   "number_sections": true,
   "sideBar": true,
   "skip_h1_title": false,
   "title_cell": "Table of Contents",
   "title_sidebar": "Contents",
   "toc_cell": false,
   "toc_position": {
    "height": "838.969px",
    "left": "112.797px",
    "top": "141.266px",
    "width": "311.997px"
   },
   "toc_section_display": true,
   "toc_window_display": true
  }
 },
 "nbformat": 4,
 "nbformat_minor": 2
}
