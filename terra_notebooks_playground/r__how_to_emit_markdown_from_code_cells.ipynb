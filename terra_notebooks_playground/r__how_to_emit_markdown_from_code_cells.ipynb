{
 "cells": [
  {
   "cell_type": "markdown",
   "metadata": {},
   "source": [
    "# How to emit markdown from code cells\n",
    "\n",
    "The code in this notebook is based on https://cran.r-project.org/web/packages/qwraps2/vignettes/summary-statistics.html It is a convenient way to create nicely formatted summary statistics.\n",
    "\n",
    "Due to Jupyter's [security model](https://ipython.org/ipython-doc/3/notebook/security.html) we have to take a few extra steps to have results from a code cell be displayed as markdown.\n",
    "* The Jupyter extension Python Markdown https://stackoverflow.com/a/43913035/4138705 can be added and that works but the results are only transient. When someone else opens the notebook, the code in the markdown cell is not run because the notebook is 'not trusted' and the reader just sees 'undefined'.\n",
    "* Using `IRdisplay::display_markdown` behaves similarly and that is what we use in this notebook.\n",
    "* For more detail, see https://ipython.org/ipython-doc/3/notebook/security.html"
   ]
  },
  {
   "cell_type": "markdown",
   "metadata": {},
   "source": [
    "## Setup"
   ]
  },
  {
   "cell_type": "code",
   "execution_count": null,
   "metadata": {},
   "outputs": [],
   "source": [
    "lapply(c('qwraps2'),\n",
    "       function(pkg) { if(! pkg %in% installed.packages()) { install.packages(pkg)} } )"
   ]
  },
  {
   "cell_type": "code",
   "execution_count": null,
   "metadata": {},
   "outputs": [],
   "source": [
    "library(qwraps2)\n",
    "library(tidyverse)"
   ]
  },
  {
   "cell_type": "markdown",
   "metadata": {},
   "source": [
    "# mtcars example"
   ]
  },
  {
   "cell_type": "code",
   "execution_count": null,
   "metadata": {},
   "outputs": [],
   "source": [
    "data(mtcars)"
   ]
  },
  {
   "cell_type": "code",
   "execution_count": null,
   "metadata": {},
   "outputs": [],
   "source": [
    "mtcars2 <-\n",
    "  dplyr::mutate(mtcars,\n",
    "                cyl_factor = factor(cyl,\n",
    "                                    levels = c(6, 4, 8),\n",
    "                                    labels = paste(c(6, 4, 8), \"cylinders\")),\n",
    "                cyl_character = paste(cyl, \"cylinders\"))"
   ]
  },
  {
   "cell_type": "code",
   "execution_count": null,
   "metadata": {},
   "outputs": [],
   "source": [
    "our_summary1 <-\n",
    "  list(\"Miles Per Gallon\" =\n",
    "       list(\"min\" = ~ min(mpg),\n",
    "            \"max\" = ~ max(mpg),\n",
    "            \"mean (sd)\" = ~ qwraps2::mean_sd(mpg)),\n",
    "       \"Displacement\" =\n",
    "       list(\"min\" = ~ min(disp),\n",
    "            \"max\" = ~ max(disp),\n",
    "            \"mean (sd)\" = ~ qwraps2::mean_sd(disp)),\n",
    "       \"Weight (1000 lbs)\" =\n",
    "       list(\"min\" = ~ min(wt),\n",
    "            \"max\" = ~ max(wt),\n",
    "            \"mean (sd)\" = ~ qwraps2::mean_sd(wt)),\n",
    "       \"Forward Gears\" =\n",
    "       list(\"Three\" = ~ qwraps2::n_perc0(gear == 3),\n",
    "            \"Four\"  = ~ qwraps2::n_perc0(gear == 4),\n",
    "            \"Five\"  = ~ qwraps2::n_perc0(gear == 5))\n",
    "       )\n",
    "\n",
    "table1 <- summary_table(mtcars2, our_summary1)"
   ]
  },
  {
   "cell_type": "markdown",
   "metadata": {},
   "source": [
    "**If you do not see the table in the next cell**, click on the 'Not Trusted' button in the upper right hand corner of the screen."
   ]
  },
  {
   "cell_type": "code",
   "execution_count": null,
   "metadata": {},
   "outputs": [],
   "source": [
    "IRdisplay::display_markdown(str_c(capture.output(print(summary_table(mtcars2, our_summary1), rtitle = 'TABLE 1', markup = 'markdown')),\n",
    "                                           collapse = '\\n'))"
   ]
  },
  {
   "cell_type": "markdown",
   "metadata": {},
   "source": [
    "# 1000 Genomes metadata example"
   ]
  },
  {
   "cell_type": "code",
   "execution_count": null,
   "metadata": {},
   "outputs": [],
   "source": [
    "sampleData <- read_csv(\n",
    "    \"http://storage.googleapis.com/genomics-public-data/1000-genomes/other/sample_info/sample_info.csv\",\n",
    "    guess_max = 3000)\n",
    "\n",
    "dim(sampleData)"
   ]
  },
  {
   "cell_type": "code",
   "execution_count": null,
   "metadata": {},
   "outputs": [],
   "source": [
    "super_populations <- sampleData %>% \n",
    "    group_by(Super_Population) %>%\n",
    "    mutate(mean_Total_LC_Sequence = mean(Total_LC_Sequence, na.rm=TRUE))"
   ]
  },
  {
   "cell_type": "code",
   "execution_count": null,
   "metadata": {},
   "outputs": [],
   "source": [
    "our_summary2 <-\n",
    "  list(\"Total Low Coverage Sequence\" =\n",
    "       list(\"min\" = ~ min(mean_Total_LC_Sequence, na.rm=TRUE),\n",
    "            \"max\" = ~ max(mean_Total_LC_Sequence, na.rm=TRUE),\n",
    "            \"mean (sd)\" = ~ qwraps2::mean_sd(mean_Total_LC_Sequence, na_rm=TRUE)))"
   ]
  },
  {
   "cell_type": "markdown",
   "metadata": {},
   "source": [
    "**If you do not see the table in the next cell**, click on the 'Not Trusted' button in the upper right hand corner of the screen."
   ]
  },
  {
   "cell_type": "code",
   "execution_count": null,
   "metadata": {},
   "outputs": [],
   "source": [
    "IRdisplay::display_markdown(str_c(capture.output(print(summary_table(super_populations, our_summary2),\n",
    "                                                      rtitle = 'TABLE 1', markup = 'markdown')),\n",
    "                                  collapse = '\\n'))"
   ]
  },
  {
   "cell_type": "markdown",
   "metadata": {},
   "source": [
    "# Provenance"
   ]
  },
  {
   "cell_type": "code",
   "execution_count": null,
   "metadata": {},
   "outputs": [],
   "source": [
    "devtools::session_info()"
   ]
  },
  {
   "cell_type": "markdown",
   "metadata": {},
   "source": [
    "Copyright 2018 The Broad Institute, Inc., Verily Life Sciences, LLC All rights reserved.\n",
    "\n",
    "This software may be modified and distributed under the terms of the BSD license. See the LICENSE file for details."
   ]
  }
 ],
 "metadata": {
  "kernelspec": {
   "display_name": "R",
   "language": "R",
   "name": "ir"
  },
  "language_info": {
   "codemirror_mode": "r",
   "file_extension": ".r",
   "mimetype": "text/x-r-source",
   "name": "R",
   "pygments_lexer": "r",
   "version": "4.0.5"
  },
  "toc": {
   "base_numbering": 1,
   "nav_menu": {},
   "number_sections": true,
   "sideBar": true,
   "skip_h1_title": false,
   "title_cell": "Table of Contents",
   "title_sidebar": "Contents",
   "toc_cell": false,
   "toc_position": {
    "height": "883.33322px",
    "left": "34px",
    "top": "162px",
    "width": "268.969px"
   },
   "toc_section_display": true,
   "toc_window_display": true
  }
 },
 "nbformat": 4,
 "nbformat_minor": 2
}
