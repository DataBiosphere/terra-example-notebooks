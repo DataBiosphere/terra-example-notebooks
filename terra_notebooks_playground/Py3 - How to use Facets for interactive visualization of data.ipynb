{
 "cells": [
  {
   "cell_type": "markdown",
   "metadata": {},
   "source": [
    "# How to use Facets for interactive visualization of data\n",
    "\n",
    "[Facets](https://pair-code.github.io/facets/) is part of Google's [People+AI Research Initiative (PAIR)](https://ai.google/pair).\n",
    "\n",
    "Note - As an alternative to this notebook, data can be explored using the [1000 Genomes Data Explorer](https://test-data-explorer.appspot.com). For other datasets, see [if there is a Data Explorer](https://app.terra.bio/#library/datasets) for your dataset."
   ]
  },
  {
   "cell_type": "markdown",
   "metadata": {},
   "source": [
    "# Setup"
   ]
  },
  {
   "cell_type": "code",
   "execution_count": null,
   "metadata": {},
   "outputs": [],
   "source": [
    "!pip3 install facets-overview"
   ]
  },
  {
   "cell_type": "code",
   "execution_count": null,
   "metadata": {},
   "outputs": [],
   "source": [
    "import base64\n",
    "import os\n",
    "\n",
    "import pandas as pd\n",
    "from facets_overview.generic_feature_statistics_generator import \\\n",
    "    GenericFeatureStatisticsGenerator"
   ]
  },
  {
   "cell_type": "markdown",
   "metadata": {},
   "source": [
    "## Add the wrapper code."
   ]
  },
  {
   "cell_type": "code",
   "execution_count": null,
   "metadata": {},
   "outputs": [],
   "source": [
    "FACETS_DEPENDENCIES = {\n",
    "    \"facets_html\": \"https://raw.githubusercontent.com/PAIR-code/facets/1.0.0/facets-dist/facets-jupyter.html\",\n",
    "    \"webcomponents_js\": \"https://cdnjs.cloudflare.com/ajax/libs/webcomponentsjs/1.3.3/webcomponents-lite.js\",\n",
    "}\n",
    "\n",
    "# Terra notebook Content Security Policy prohibits pulling these files from\n",
    "# a remote location, so this code depends on the fact we can refer to it\n",
    "# from a location relative to the notebook.\n",
    "for dep, url in FACETS_DEPENDENCIES.items():\n",
    "    if not os.path.exists(os.path.basename(url)):\n",
    "        os.system(\"wget --no-clobber \" + url)\n",
    "    # Update dictionary to replace absolute url with relative url.\n",
    "    FACETS_DEPENDENCIES[dep] = os.path.basename(url)\n",
    "\n",
    "\n",
    "class FacetsOverview(object):\n",
    "    \"\"\"Methods for Facets Overview notebook integration.\"\"\"\n",
    "\n",
    "    def __init__(self, data):\n",
    "        # This takes the dataframe and computes all the inputs to the Facets\n",
    "        # Overview plots such as:\n",
    "        # - numeric variables: histogram bins, mean, min, median, max, etc..\n",
    "        # - categorical variables: num unique, counts per category for bar chart,\n",
    "        #     top category, etc.\n",
    "        gfsg = GenericFeatureStatisticsGenerator()\n",
    "        self._proto = gfsg.ProtoFromDataFrames(\n",
    "            [{\"name\": \"data\", \"table\": data}],\n",
    "        )\n",
    "\n",
    "    def _repr_html_(self):\n",
    "        \"\"\"Html representation of Facets Overview for use in a Jupyter notebook.\"\"\"\n",
    "        protostr = base64.b64encode(self._proto.SerializeToString()).decode(\"utf-8\")\n",
    "        html_template = \"\"\"\n",
    "        <script src=\"{webcomponents_js}\"></script>\n",
    "        <link rel=\"import\" href=\"{facets_html}\">\n",
    "        <facets-overview id=\"overview_elem\"></facets-overview>\n",
    "        <script>\n",
    "          document.querySelector(\"#overview_elem\").protoInput = \"{protostr}\";\n",
    "        </script>\"\"\"\n",
    "        html = html_template.format(\n",
    "            facets_html=FACETS_DEPENDENCIES[\"facets_html\"],\n",
    "            webcomponents_js=FACETS_DEPENDENCIES[\"webcomponents_js\"],\n",
    "            protostr=protostr,\n",
    "        )\n",
    "        return html\n",
    "\n",
    "\n",
    "class FacetsDive(object):\n",
    "    \"\"\"Methods for Facets Dive notebook integration.\"\"\"\n",
    "\n",
    "    def __init__(self, data, height=1000):\n",
    "        self._data = data\n",
    "        self.height = height\n",
    "\n",
    "    def _repr_html_(self):\n",
    "        \"\"\"Html representation of Facets Dive for use in a Jupyter notebook.\"\"\"\n",
    "        html_template = \"\"\"\n",
    "        <script src=\"{webcomponents_js}\"></script>\n",
    "        <link rel=\"import\" href=\"{facets_html}\">\n",
    "        <facets-dive id=\"dive_elem\" height=\"{height}\"></facets-dive>\n",
    "        <script>\n",
    "          document.querySelector(\"#dive_elem\").data = {data};\n",
    "        </script>\"\"\"\n",
    "        html = html_template.format(\n",
    "            facets_html=FACETS_DEPENDENCIES[\"facets_html\"],\n",
    "            webcomponents_js=FACETS_DEPENDENCIES[\"webcomponents_js\"],\n",
    "            data=self._data.to_json(orient=\"records\"),\n",
    "            height=self.height,\n",
    "        )\n",
    "        return html"
   ]
  },
  {
   "cell_type": "markdown",
   "metadata": {},
   "source": [
    "# Load some public data from BigQuery"
   ]
  },
  {
   "cell_type": "code",
   "execution_count": null,
   "metadata": {},
   "outputs": [],
   "source": [
    "df = pd.io.gbq.read_gbq(\n",
    "    \"\"\"\n",
    "  SELECT\n",
    "    *\n",
    "  FROM\n",
    "    `genomics-public-data.1000_genomes.sample_info`\n",
    "\"\"\"\n",
    ")\n",
    "\n",
    "df.shape"
   ]
  },
  {
   "cell_type": "code",
   "execution_count": null,
   "metadata": {},
   "outputs": [],
   "source": [
    "df.head()"
   ]
  },
  {
   "cell_type": "markdown",
   "metadata": {},
   "source": [
    "# Facets Overview\n",
    "\n",
    "See https://ipython.org/ipython-doc/3/notebook/security.html for more detail about 'trusted' and 'untrusted' notebooks.\n",
    "\n",
    "**If you do not see FacetsOverview**, click on the 'Not Trusted' button in the upper right hand corner of the screen and change to 'Trusted'."
   ]
  },
  {
   "cell_type": "code",
   "execution_count": null,
   "metadata": {},
   "outputs": [],
   "source": [
    "FacetsOverview(df)"
   ]
  },
  {
   "cell_type": "markdown",
   "metadata": {},
   "source": [
    "# Facets Dive\n",
    "\n",
    "See https://ipython.org/ipython-doc/3/notebook/security.html for more detail about 'trusted' and 'untrusted' notebooks.\n",
    "\n",
    "**If you do not see Facets Dive**, click on the 'Not Trusted' button in the upper right hand corner of the screen and change to 'Trusted'."
   ]
  },
  {
   "cell_type": "code",
   "execution_count": null,
   "metadata": {},
   "outputs": [],
   "source": [
    "FacetsDive(df)"
   ]
  },
  {
   "cell_type": "markdown",
   "metadata": {},
   "source": [
    "# Provenance"
   ]
  },
  {
   "cell_type": "code",
   "execution_count": null,
   "metadata": {},
   "outputs": [],
   "source": [
    "import datetime\n",
    "\n",
    "print(datetime.datetime.now())"
   ]
  },
  {
   "cell_type": "code",
   "execution_count": null,
   "metadata": {},
   "outputs": [],
   "source": [
    "!pip3 freeze"
   ]
  },
  {
   "cell_type": "markdown",
   "metadata": {},
   "source": [
    "Copyright 2018 The Broad Institute, Inc., Verily Life Sciences, LLC All rights reserved.\n",
    "\n",
    "This software may be modified and distributed under the terms of the BSD license. See the LICENSE file for details."
   ]
  }
 ],
 "metadata": {
  "kernelspec": {
   "display_name": "Python 3",
   "language": "python",
   "name": "python3"
  },
  "language_info": {
   "codemirror_mode": {
    "name": "ipython",
    "version": 3
   },
   "file_extension": ".py",
   "mimetype": "text/x-python",
   "name": "python",
   "nbconvert_exporter": "python",
   "pygments_lexer": "ipython3",
   "version": "3.8.9"
  },
  "toc": {
   "base_numbering": 1,
   "nav_menu": {},
   "number_sections": true,
   "sideBar": true,
   "skip_h1_title": false,
   "title_cell": "Table of Contents",
   "title_sidebar": "Contents",
   "toc_cell": false,
   "toc_position": {
    "height": "calc(100% - 180px)",
    "left": "10px",
    "top": "150px",
    "width": "219.774px"
   },
   "toc_section_display": true,
   "toc_window_display": true
  }
 },
 "nbformat": 4,
 "nbformat_minor": 4
}
