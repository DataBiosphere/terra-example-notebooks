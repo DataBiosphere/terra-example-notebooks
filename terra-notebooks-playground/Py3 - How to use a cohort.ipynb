{
 "cells": [
  {
   "cell_type": "markdown",
   "metadata": {},
   "source": [
    "# How to use a cohort\n",
    "\n",
    "This notebook shows how to use a cohort saved from Data Explorer.\n",
    "\n",
    "It uses a cohort saved in the [Terra Notebooks Playground workspace](https://app.terra.bio/#workspaces/help-gatk/Terra%20Notebooks%20Playground/data)."
   ]
  },
  {
   "cell_type": "markdown",
   "metadata": {},
   "source": [
    "## Setup"
   ]
  },
  {
   "cell_type": "code",
   "execution_count": null,
   "metadata": {},
   "outputs": [],
   "source": [
    "import firecloud.api as fapi\n",
    "import pandas as pd"
   ]
  },
  {
   "cell_type": "markdown",
   "metadata": {},
   "source": [
    "## Retrieve cohort SQL query"
   ]
  },
  {
   "cell_type": "code",
   "execution_count": null,
   "metadata": {},
   "outputs": [],
   "source": [
    "# Hard-code instead of use WORKSPACE_NAMESPACE/WORKSPACE_NAME, since other workspaces\n",
    "# won't have the 1000g_americans cohort.\n",
    "ws_namespace = \"help-gatk\"\n",
    "ws_name = \"Terra Notebooks Playground\"\n",
    "cohort_query = fapi.get_entity(\n",
    "    ws_namespace, ws_name, \"cohort\", \"1000g_americans\"\n",
    ").json()[\"attributes\"][\"query\"]\n",
    "cohort_query"
   ]
  },
  {
   "cell_type": "markdown",
   "metadata": {},
   "source": [
    "## Create pandas dataframe of cohort participant ids"
   ]
  },
  {
   "cell_type": "code",
   "execution_count": null,
   "metadata": {},
   "outputs": [],
   "source": [
    "participant_ids = pd.read_gbq(cohort_query, dialect=\"standard\")\n",
    "participant_ids.head()"
   ]
  },
  {
   "cell_type": "markdown",
   "metadata": {},
   "source": [
    "## See what tables are available to join against"
   ]
  },
  {
   "cell_type": "code",
   "execution_count": null,
   "metadata": {},
   "outputs": [],
   "source": [
    "bq_table_entities = fapi.get_entities(ws_namespace, ws_name, \"BigQuery_table\").json()\n",
    "bq_tables = list(map(lambda e: e[\"attributes\"][\"table_name\"], bq_table_entities))\n",
    "bq_tables"
   ]
  },
  {
   "cell_type": "markdown",
   "metadata": {},
   "source": [
    "## Join cohort participant ids against sample_info table"
   ]
  },
  {
   "cell_type": "code",
   "execution_count": null,
   "metadata": {},
   "outputs": [],
   "source": [
    "sample_info = pd.read_gbq(\n",
    "    \"SELECT * FROM `verily-public-data.human_genome_variants.1000_genomes_sample_info`\",\n",
    "    dialect=\"standard\",\n",
    ")\n",
    "print(\"sample_info has %d rows\" % len(sample_info.index))\n",
    "\n",
    "sample_info_americans = participant_ids.join(sample_info, lsuffix=\"_L\", rsuffix=\"_R\")\n",
    "print(\"sample_info_americans has %d rows\\n\" % len(sample_info_americans.index))\n",
    "\n",
    "sample_info_americans.head()"
   ]
  },
  {
   "cell_type": "markdown",
   "metadata": {},
   "source": [
    "# Provenance"
   ]
  },
  {
   "cell_type": "code",
   "execution_count": null,
   "metadata": {},
   "outputs": [],
   "source": [
    "import datetime\n",
    "\n",
    "print(datetime.datetime.now())\n",
    "!pip3 freeze"
   ]
  },
  {
   "cell_type": "markdown",
   "metadata": {},
   "source": [
    "Copyright 2019 The Broad Institute, Inc., Verily Life Sciences, LLC All rights reserved.\n",
    "\n",
    "This software may be modified and distributed under the terms of the BSD license. See the LICENSE file for details."
   ]
  }
 ],
 "metadata": {
  "kernelspec": {
   "display_name": "Python 3",
   "language": "python",
   "name": "python3"
  },
  "language_info": {
   "codemirror_mode": {
    "name": "ipython",
    "version": 3
   },
   "file_extension": ".py",
   "mimetype": "text/x-python",
   "name": "python",
   "nbconvert_exporter": "python",
   "pygments_lexer": "ipython3",
   "version": "3.8.9"
  },
  "toc": {
   "base_numbering": 1,
   "nav_menu": {},
   "number_sections": true,
   "sideBar": true,
   "skip_h1_title": false,
   "title_cell": "Table of Contents",
   "title_sidebar": "Contents",
   "toc_cell": false,
   "toc_position": {},
   "toc_section_display": true,
   "toc_window_display": true
  }
 },
 "nbformat": 4,
 "nbformat_minor": 4
}
