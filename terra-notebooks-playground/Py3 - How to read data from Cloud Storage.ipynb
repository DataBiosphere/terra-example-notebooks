{
 "cells": [
  {
   "cell_type": "markdown",
   "metadata": {},
   "source": [
    "# How to read data from Cloud Storage\n",
    "\n",
    "This notebook demonstrates how to load a CSV file from Google Cloud Storage with Python.\n",
    "This notebook uses the [gsutil](https://cloud.google.com/storage/docs/gsutil) command line tool for fetching the data.\n",
    "\n",
    "There are other very good ways of doing this same thing:\n",
    "\n",
    "- [Google Python Client](https://github.com/googleapis/google-cloud-python/tree/master/storage)\n",
    "- [Tensorflow gfile module](https://www.tensorflow.org/api_docs/python/tf/io/gfile)\n",
    "\n",
    "The use of `gsutil` here is intended to demonstrate a common tool that is useful for working with\n",
    "data in Cloud Storage in many contexts."
   ]
  },
  {
   "cell_type": "markdown",
   "metadata": {},
   "source": [
    "## Setup"
   ]
  },
  {
   "cell_type": "code",
   "execution_count": null,
   "metadata": {},
   "outputs": [],
   "source": [
    "from io import StringIO\n",
    "\n",
    "import matplotlib.pyplot as plt\n",
    "import pandas as pd\n",
    "\n",
    "# Enable IPython to display matplotlib graphs.\n",
    "%matplotlib inline"
   ]
  },
  {
   "cell_type": "code",
   "execution_count": null,
   "metadata": {},
   "outputs": [],
   "source": [
    "SAMPLE_INFO_CSV = (\n",
    "    \"gs://genomics-public-data/1000-genomes/other/sample_info/sample_info.csv\"\n",
    ")"
   ]
  },
  {
   "cell_type": "markdown",
   "metadata": {},
   "source": [
    "## Retrieve a CSV"
   ]
  },
  {
   "cell_type": "code",
   "execution_count": null,
   "metadata": {},
   "outputs": [],
   "source": [
    "# Use the IPython \"!\" syntax to call a command-line\n",
    "file_contents = !gsutil cat {SAMPLE_INFO_CSV}\n",
    "\n",
    "# The \"!\" syntax returns a special IPython type (IPython.utils.text.SList)\n",
    "# where each line is a separate item in the list.\n",
    "# Let's look at the first two lines:\n",
    "file_contents[0:1]"
   ]
  },
  {
   "cell_type": "code",
   "execution_count": null,
   "metadata": {},
   "outputs": [],
   "source": [
    "# We are interested in loading this into a dataframe, so we need to convert it to a single string\n",
    "sample_info = pd.read_csv(StringIO(\"\\n\".join(file_contents)), engine=\"python\")"
   ]
  },
  {
   "cell_type": "code",
   "execution_count": null,
   "metadata": {},
   "outputs": [],
   "source": [
    "# Let's see the structure of what we loaded\n",
    "sample_info.info()"
   ]
  },
  {
   "cell_type": "code",
   "execution_count": null,
   "metadata": {},
   "outputs": [],
   "source": [
    "sample_info.head()"
   ]
  },
  {
   "cell_type": "code",
   "execution_count": null,
   "metadata": {},
   "outputs": [],
   "source": [
    "# Pandas can give us some summary analysis of the numeric fields\n",
    "sample_info.describe()"
   ]
  },
  {
   "cell_type": "code",
   "execution_count": null,
   "metadata": {},
   "outputs": [],
   "source": [
    "counts_by_super = sample_info[\"Super_Population\"].value_counts()\n",
    "plt.pie(counts_by_super.values, labels=counts_by_super.index, autopct=\"%1.1f%%\")\n",
    "plt.show()"
   ]
  },
  {
   "cell_type": "code",
   "execution_count": null,
   "metadata": {},
   "outputs": [],
   "source": [
    "counts_by_population = sample_info[\"Population\"].value_counts()\n",
    "plt.pie(\n",
    "    counts_by_population.values, labels=counts_by_population.index, autopct=\"%1.1f%%\"\n",
    ")\n",
    "plt.show()"
   ]
  },
  {
   "cell_type": "markdown",
   "metadata": {},
   "source": [
    "# Provenance"
   ]
  },
  {
   "cell_type": "code",
   "execution_count": null,
   "metadata": {},
   "outputs": [],
   "source": [
    "import datetime\n",
    "\n",
    "print(datetime.datetime.now())"
   ]
  },
  {
   "cell_type": "code",
   "execution_count": null,
   "metadata": {},
   "outputs": [],
   "source": [
    "!pip3 freeze"
   ]
  },
  {
   "cell_type": "markdown",
   "metadata": {},
   "source": [
    "Copyright 2018 The Broad Institute, Inc., Verily Life Sciences, LLC All rights reserved.\n",
    "\n",
    "This software may be modified and distributed under the terms of the BSD license. See the LICENSE file for details."
   ]
  }
 ],
 "metadata": {
  "kernelspec": {
   "display_name": "Python 3",
   "language": "python",
   "name": "python3"
  },
  "language_info": {
   "codemirror_mode": {
    "name": "ipython",
    "version": 3
   },
   "file_extension": ".py",
   "mimetype": "text/x-python",
   "name": "python",
   "nbconvert_exporter": "python",
   "pygments_lexer": "ipython3",
   "version": "3.8.9"
  },
  "toc": {
   "base_numbering": 1,
   "nav_menu": {},
   "number_sections": true,
   "sideBar": true,
   "skip_h1_title": false,
   "title_cell": "Table of Contents",
   "title_sidebar": "Contents",
   "toc_cell": false,
   "toc_position": {
    "height": "calc(100% - 180px)",
    "left": "10px",
    "top": "150px",
    "width": "336px"
   },
   "toc_section_display": true,
   "toc_window_display": true
  }
 },
 "nbformat": 4,
 "nbformat_minor": 4
}
