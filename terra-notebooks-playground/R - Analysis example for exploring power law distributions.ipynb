{
 "cells": [
  {
   "cell_type": "markdown",
   "metadata": {},
   "source": [
    "# Analysis example for exploring power law distributions\n",
    "\n",
    "In this notebook we explore power law distributions to gain familiarity with them.\n",
    "\n",
    "See https://www.nature.com/articles/srep00812 to recognize that mixtures of power laws do not, themselves, yield a power law! Also, if you take the bottom half of data from a power law, you will not get a power law.\n",
    "\n",
    "The original analysis is in github repo: https://github.com/carbocation/jupyter/blob/master/powerlaws.ipynb"
   ]
  },
  {
   "cell_type": "markdown",
   "metadata": {},
   "source": [
    "## Setup"
   ]
  },
  {
   "cell_type": "code",
   "execution_count": null,
   "metadata": {},
   "outputs": [],
   "source": [
    "lapply(c('poweRlaw'),\n",
    "       function(pkg) { if(! pkg %in% installed.packages()) { install.packages(pkg)} } )"
   ]
  },
  {
   "cell_type": "code",
   "execution_count": null,
   "metadata": {},
   "outputs": [],
   "source": [
    "GetRanks <- function(x) {\n",
    "    return(1+length(x)-seq(1, length(x)))\n",
    "}\n",
    "\n",
    "# Generate a vector with 5k power-law distributed values \n",
    "# with scaling factor of 3, starting at 1\n",
    "x <- poweRlaw::rpldis(50000, 1, 3, discrete_max=10000)"
   ]
  },
  {
   "cell_type": "markdown",
   "metadata": {},
   "source": [
    "## Plot the full distribution"
   ]
  },
  {
   "cell_type": "code",
   "execution_count": null,
   "metadata": {},
   "outputs": [],
   "source": [
    "(function() {\n",
    "    # Plot them. Note that the order (with regard to the rank of the x values) matters.\n",
    "    plot(GetRanks(x), sort(x), log=\"xy\", xlab=\"Rank\", ylab=\"Value\", main=\"Log scale\")\n",
    "})()"
   ]
  },
  {
   "cell_type": "markdown",
   "metadata": {},
   "source": [
    "## Take the bottom 95% of the distribution and see if it still looks like a power law (no)"
   ]
  },
  {
   "cell_type": "code",
   "execution_count": null,
   "metadata": {},
   "outputs": [],
   "source": [
    "(function() {\n",
    "    N <- 0.95*length(x)\n",
    "    #partials <- sort(x)[(length(x)-N):(length(x)-1)]\n",
    "    partials <- sort(x)[1:N]\n",
    "    plot(GetRanks(partials), sort(partials), log=\"xy\", xlab=\"Rank\", ylab=\"Value\", main=\"Log scale\")\n",
    "})()"
   ]
  },
  {
   "cell_type": "markdown",
   "metadata": {},
   "source": [
    "## Take the top 5% of the distribution and see if it still looks like a power law (yes)"
   ]
  },
  {
   "cell_type": "code",
   "execution_count": null,
   "metadata": {},
   "outputs": [],
   "source": [
    "(function() {\n",
    "    N <- 0.05*length(x)\n",
    "    partials <- sort(x)[(length(x)-N):(length(x)-1)]\n",
    "    plot(GetRanks(partials), sort(partials), log=\"xy\", xlab=\"Rank\", ylab=\"Value\", main=\"Log scale\")\n",
    "})()"
   ]
  },
  {
   "cell_type": "markdown",
   "metadata": {},
   "source": [
    "# Provenance"
   ]
  },
  {
   "cell_type": "code",
   "execution_count": null,
   "metadata": {},
   "outputs": [],
   "source": [
    "devtools::session_info()"
   ]
  },
  {
   "cell_type": "markdown",
   "metadata": {},
   "source": [
    "Copyright 2018 The Broad Institute, Inc., Verily Life Sciences, LLC All rights reserved.\n",
    "\n",
    "This software may be modified and distributed under the terms of the BSD license. See the LICENSE file for details."
   ]
  }
 ],
 "metadata": {
  "kernelspec": {
   "display_name": "R",
   "language": "R",
   "name": "ir"
  },
  "language_info": {
   "codemirror_mode": "r",
   "file_extension": ".r",
   "mimetype": "text/x-r-source",
   "name": "R",
   "pygments_lexer": "r",
   "version": "4.0.5"
  },
  "toc": {
   "base_numbering": 1,
   "nav_menu": {},
   "number_sections": true,
   "sideBar": true,
   "skip_h1_title": false,
   "title_cell": "Table of Contents",
   "title_sidebar": "Contents",
   "toc_cell": false,
   "toc_position": {
    "height": "calc(100% - 180px)",
    "left": "10px",
    "top": "150px",
    "width": "165px"
   },
   "toc_section_display": true,
   "toc_window_display": true
  }
 },
 "nbformat": 4,
 "nbformat_minor": 2
}
