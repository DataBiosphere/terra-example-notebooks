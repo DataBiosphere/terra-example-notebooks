{
 "cells": [
  {
   "cell_type": "markdown",
   "metadata": {},
   "source": [
    "# How to read data from BigQuery\n",
    "\n",
    "This notebook demonstrates two ways to use BigQuery with Python\n",
    "1. by using SQL via [pandas-gbq](https://pandas-gbq.readthedocs.io/en/latest/)\n",
    "2. by using only Python code to extract the data of interest from BigQuery via [Ibis](https://docs.ibis-project.org/)"
   ]
  },
  {
   "cell_type": "markdown",
   "metadata": {},
   "source": [
    "## Setup"
   ]
  },
  {
   "cell_type": "code",
   "execution_count": null,
   "metadata": {},
   "outputs": [],
   "source": [
    "!pip3 install ibis-framework"
   ]
  },
  {
   "cell_type": "code",
   "execution_count": null,
   "metadata": {},
   "outputs": [],
   "source": [
    "import os\n",
    "\n",
    "import ibis\n",
    "import pandas as pd\n",
    "import pandas_gbq"
   ]
  },
  {
   "cell_type": "markdown",
   "metadata": {},
   "source": [
    "## Option 1: Retrieve filtered data from BigQuery using SQL.\n",
    "\n",
    "The following SQL will read a subset of columns and subset of rows from a BigQuery table into a Pandas dataframe.\n",
    "* [Pandas](http://pandas.pydata.org/pandas-docs/stable/) is a popular Python package for data manipulation.\n",
    "* To learn more about SQL syntax see the [BigQuery standard SQL reference](https://cloud.google.com/bigquery/docs/reference/standard-sql/)."
   ]
  },
  {
   "cell_type": "code",
   "execution_count": null,
   "metadata": {},
   "outputs": [],
   "source": [
    "sample_info = pd.read_gbq(\n",
    "    \"\"\"\n",
    "SELECT\n",
    "  Sample,\n",
    "  Gender,\n",
    "  Relationship,\n",
    "  Population,\n",
    "  Population_Description,\n",
    "  Super_Population,\n",
    "  Super_Population_Description,\n",
    "  Total_Exome_Sequence,\n",
    "  Main_Project_E_Platform,\n",
    "  Main_Project_E_Centers\n",
    "FROM\n",
    "  `bigquery-public-data.human_genome_variants.1000_genomes_sample_info`\n",
    "WHERE\n",
    "  -- Only include information for samples in phase 1.\n",
    "  In_Phase1_Integrated_Variant_Set = TRUE\n",
    "\"\"\"\n",
    ")"
   ]
  },
  {
   "cell_type": "code",
   "execution_count": null,
   "metadata": {},
   "outputs": [],
   "source": [
    "sample_info.info()"
   ]
  },
  {
   "cell_type": "code",
   "execution_count": null,
   "metadata": {},
   "outputs": [],
   "source": [
    "sample_info.describe()"
   ]
  },
  {
   "cell_type": "code",
   "execution_count": null,
   "metadata": {},
   "outputs": [],
   "source": [
    "sample_info.head()"
   ]
  },
  {
   "cell_type": "markdown",
   "metadata": {},
   "source": [
    "## Option 2: Retrieve filtered data from BigQuery using Python.\n",
    "\n",
    "The following Python code will read a BigQuery table into a Pandas dataframe.\n",
    "\n",
    "From https://cloud.google.com/community/tutorials/bigquery-ibis\n",
    "\n",
    "*[Ibis](http://ibis-project.org/) is a Python library for doing data analysis. It offers a Pandas-like environment for executing data analysis in big data processing systems such as Google BigQuery. Ibis's primary goals are to be a type safe, expressive, composable, and familiar replacement for SQL.*"
   ]
  },
  {
   "cell_type": "code",
   "execution_count": null,
   "metadata": {},
   "outputs": [],
   "source": [
    "conn = ibis.bigquery.connect(dataset_id=\"bigquery-public-data.human_genome_variants\")"
   ]
  },
  {
   "cell_type": "code",
   "execution_count": null,
   "metadata": {},
   "outputs": [],
   "source": [
    "sample_info_tbl = conn.table(\"1000_genomes_sample_info\")\n",
    "sample_info_tbl"
   ]
  },
  {
   "cell_type": "code",
   "execution_count": null,
   "metadata": {},
   "outputs": [],
   "source": [
    "# Define the filter criteria.\n",
    "phase_1_only = sample_info_tbl.In_Phase1_Integrated_Variant_Set == True\n",
    "\n",
    "# Apply the filter and choose the columns to return.\n",
    "phase_1_sample_info_tbl = sample_info_tbl.filter(phase_1_only)[\n",
    "    \"Sample\",\n",
    "    \"Gender\",\n",
    "    \"Relationship\",\n",
    "    \"Population\",\n",
    "    \"Population_Description\",\n",
    "    \"Super_Population\",\n",
    "    \"Super_Population_Description\",\n",
    "    \"Total_Exome_Sequence\",\n",
    "    \"Main_Project_E_Platform\",\n",
    "    \"Main_Project_E_Centers\",\n",
    "]"
   ]
  },
  {
   "cell_type": "code",
   "execution_count": null,
   "metadata": {},
   "outputs": [],
   "source": [
    "# Optional: take a look at the SQL.\n",
    "print(phase_1_sample_info_tbl.compile())"
   ]
  },
  {
   "cell_type": "code",
   "execution_count": null,
   "metadata": {},
   "outputs": [],
   "source": [
    "# Optional: See how much data this will return.\n",
    "phase_1_sample_info_tbl.count().execute()"
   ]
  },
  {
   "cell_type": "code",
   "execution_count": null,
   "metadata": {},
   "outputs": [],
   "source": [
    "# Go ahead and retrieve the data.\n",
    "phase_1_sample_info_df = phase_1_sample_info_tbl.limit(1000000).execute()\n",
    "phase_1_sample_info_df.shape"
   ]
  },
  {
   "cell_type": "code",
   "execution_count": null,
   "metadata": {},
   "outputs": [],
   "source": [
    "phase_1_sample_info_df.head()"
   ]
  },
  {
   "cell_type": "markdown",
   "metadata": {},
   "source": [
    "# Provenance"
   ]
  },
  {
   "cell_type": "code",
   "execution_count": null,
   "metadata": {},
   "outputs": [],
   "source": [
    "import datetime\n",
    "\n",
    "print(datetime.datetime.now())"
   ]
  },
  {
   "cell_type": "code",
   "execution_count": null,
   "metadata": {},
   "outputs": [],
   "source": [
    "!pip3 freeze"
   ]
  },
  {
   "cell_type": "markdown",
   "metadata": {},
   "source": [
    "Copyright 2018 The Broad Institute, Inc., Verily Life Sciences, LLC All rights reserved.\n",
    "\n",
    "This software may be modified and distributed under the terms of the BSD license. See the LICENSE file for details."
   ]
  }
 ],
 "metadata": {
  "kernelspec": {
   "display_name": "Python 3",
   "language": "python",
   "name": "python3"
  },
  "language_info": {
   "codemirror_mode": {
    "name": "ipython",
    "version": 3
   },
   "file_extension": ".py",
   "mimetype": "text/x-python",
   "name": "python",
   "nbconvert_exporter": "python",
   "pygments_lexer": "ipython3",
   "version": "3.7.10"
  },
  "toc": {
   "base_numbering": 1,
   "nav_menu": {},
   "number_sections": true,
   "sideBar": true,
   "skip_h1_title": false,
   "title_cell": "Table of Contents",
   "title_sidebar": "Contents",
   "toc_cell": false,
   "toc_position": {
    "height": "calc(100% - 180px)",
    "left": "10px",
    "top": "150px",
    "width": "336px"
   },
   "toc_section_display": true,
   "toc_window_display": true
  }
 },
 "nbformat": 4,
 "nbformat_minor": 2
}
