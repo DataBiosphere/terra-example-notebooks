{
 "cells": [
  {
   "cell_type": "markdown",
   "metadata": {
    "id": "AMBg6UeZO8cZ"
   },
   "source": [
    "# Analysis of *Felis Catus* behavior\n",
    "\n",
    "In this notebook we explore the effect of surprises on cats."
   ]
  },
  {
   "cell_type": "markdown",
   "metadata": {
    "id": "egSlBqW2O8cc"
   },
   "source": [
    "# Setup"
   ]
  },
  {
   "cell_type": "code",
   "execution_count": null,
   "metadata": {
    "colab": {
     "base_uri": "https://localhost:8080/"
    },
    "id": "pWdYLXxNO8cd",
    "outputId": "797b58db-523e-4462-cb3c-9075756d6d88"
   },
   "outputs": [],
   "source": [
    "%pip install --upgrade --no-deps git+https://github.com/deflaux/catterplotpy.git@nd-fix-cat-parameter\n",
    "\n",
    "# TODO switch back to this when PR is merged https://github.com/eteq/catterplotpy/pull/2.\n",
    "#%pip install --upgrade https://github.com/eteq/catterplotpy/tarball/master"
   ]
  },
  {
   "cell_type": "code",
   "execution_count": null,
   "metadata": {
    "id": "Xi0aYjDVO8cf"
   },
   "outputs": [],
   "source": [
    "from catterplot import catter\n",
    "from datetime import datetime\n",
    "from matplotlib import pyplot as plt\n",
    "import numpy as np\n",
    "import pandas as pd"
   ]
  },
  {
   "cell_type": "markdown",
   "metadata": {
    "id": "pF2x1J-TO8cf"
   },
   "source": [
    "# Data sampling and curation\n",
    "\n",
    "In the accompanying data table, you can see the data that was meticulously and rigorously collected in the *Felis Catus* behavior experiment. Elapsed time and elevation measurements were gathered from the *Felis Catus* [historical video records](https://www.youtube.com/watch?v=6U_XREUMOAU). \n",
    "\n",
    "Each of the samples obtained include the initial point of suprise, max elevation obtained, and final elevation.\n",
    "\n",
    "Samples with discontinous initial and final elevations (e.g. those of a cat leaping off of a bed or other furniture) were discarded for the purpose of this behavior analysis."
   ]
  },
  {
   "cell_type": "code",
   "execution_count": null,
   "metadata": {
    "colab": {
     "base_uri": "https://localhost:8080/"
    },
    "id": "DvnnNew9Ljx6",
    "outputId": "3f04b07b-0456-4648-e2c6-5baee4407151"
   },
   "outputs": [],
   "source": [
    "data = {'sample-name': ['SC-01','SC-02','SC-03','SC-04','SC-05'], \n",
    "        'video-ts': ['0:01:00','0:19:00','0:22:00','0:32:00','1:25:00',],\n",
    "        't-initial (ms)': [0,0,0,0,0],\n",
    "        't-max (ms)': [249,350,300,305,250],\n",
    "        't-final (ms)': [500,700,620,635,485],\n",
    "        'max-elevation (mm)': [450,750,500,500,350]}\n",
    "df = pd.DataFrame.from_dict(data)\n",
    "df"
   ]
  },
  {
   "cell_type": "markdown",
   "metadata": {
    "id": "01JzRbxVLlII"
   },
   "source": [
    "# Model creation\n",
    "\n",
    "We created a mathematical model of surprised *Felis Catus*<sup>*</sup> elevations over time, which closely matches the observed behavior, based upon simplified Newtonian physics.\n",
    "\n",
    "\n",
    "---\n",
    "\n",
    "\n",
    "\n",
    "\\* a surprised *Felis Catus* is perhaps more accurately named [*Miratus*](https://www.google.com/search?q=latin+Miratus+to+english&rlz=1CAOTWH_enUS896&sxsrf=APq-WBuOE6NGJE-cKAgk7J2wu2FE7w018g%3A1647822636169&ei=LMc3Yuj5BO6c0PEPw_q2wAw&ved=0ahUKEwjov4HX-dX2AhVuDjQIHUO9DcgQ4dUDCA4&uact=5&oq=latin+Miratus+to+english) *Felis Catus*"
   ]
  },
  {
   "cell_type": "code",
   "execution_count": null,
   "metadata": {
    "colab": {
     "base_uri": "https://localhost:8080/",
     "height": 530
    },
    "id": "tiuthDg6KLag",
    "outputId": "a7beb1f0-a4f3-453c-9512-4fceecfbe87c"
   },
   "outputs": [],
   "source": [
    "plt.rcParams['figure.figsize'] = [16, 8]\n",
    "\n",
    "t = t1 = np.linspace(0, 500, 20) # Units are in milliseconds (ms).\n",
    "\n",
    "g = (9.8 * 1000) / (1000**2)   # Gravity (mm/ms**2).\n",
    "y0 = 0           # Initial height of cat prior to surprise (mm).\n",
    "v0y = 2.45       # Initial vertical velocity of suprised cat (mm/ms).\n",
    "\n",
    "y = y0 + v0y*t - 1/2*g*t**2\n",
    "\n",
    "catter(x = t, y = y, s=750, cat=2)\n",
    "\n",
    "plt.xlabel('time (ms)', fontsize=18)\n",
    "plt.ylabel('cat elevation (mm)', fontsize=18)\n",
    "plt.title('Model of Surprised Cat', fontsize=24)\n",
    "plt.show()"
   ]
  },
  {
   "cell_type": "markdown",
   "metadata": {
    "id": "n6Zrzs4jKZXN"
   },
   "source": [
    "# Application of model to obtained data set\n",
    "\n",
    "Applying the model allows us to extrapolate intervening data points not recorded during initial data gathering, and to perform repeated theoretical experiments.  This likely would have been quite challenging to do with a real cat, as it is unlikely to have tolerated such shenanigans. "
   ]
  },
  {
   "cell_type": "code",
   "execution_count": null,
   "metadata": {
    "colab": {
     "base_uri": "https://localhost:8080/",
     "height": 530
    },
    "id": "4vfYZfVBzieX",
    "outputId": "17623a11-9ca9-4f8d-d226-c63783985563"
   },
   "outputs": [],
   "source": [
    "plt.rcParams['figure.figsize'] = [16, 8]\n",
    "\n",
    "## Append calculated landing velocity to dataframe.\n",
    "df['landing-velocity (mm/ms)'] = 9.8 / 1000 * (df['t-final (ms)'] - df['t-max (ms)'])\n",
    "\n",
    "## Generate Catterplot for each sample taken from the historical records.\n",
    "for index, row in df.iterrows():\n",
    "        t = t1 = np.linspace(0, row['t-final (ms)'], 20) # Units are in milliseconds (ms).\n",
    "\n",
    "        g = (9.8 * 1000) / (1000**2)   # Gravity (mm/ms**2)\n",
    "        y0 = 0           # Initial height of cat prior to surprise (mm).\n",
    "\n",
    "\n",
    "        v0y = row['landing-velocity (mm/ms)']  ## Approximate initial velocity to be same as landing velocity.\n",
    "\n",
    "        y = y0 + v0y*t - 1/2*g*t**2\n",
    "        catter(x = t, y = y, s=1500, cat=index)\n",
    "\n",
    "plt.xlabel('time (ms)', fontsize=18)\n",
    "plt.ylabel('cat elevation (mm)', fontsize=18)\n",
    "plt.title('Surprised Cats', fontsize=24)\n",
    "plt.show()"
   ]
  },
  {
   "cell_type": "markdown",
   "metadata": {
    "id": "zxLZ_5eHO8cg"
   },
   "source": [
    "# Discussion\n",
    "\n",
    "As you can see, when cats are surprised, the result is an initial rapid gain in elevation followed by a corresponding reduction in elevation. The elevation plateau observed at the temporal mid-point as cat velocity approaches zero is due to the constant deceleration applied to the cat by the force of gravity. It at this mid-point that max elevation is achieved. \n",
    "\n",
    "After reaching max elevation and with negligible air-resistance at these velocities, the cat will experience free-fall, aka zero gravity from the cat's frame of reference. Throughout the cat's descent, elevation decreases faster and faster as gravity accelerates them earthbound, until their velocity comes to a stop as they return to their initial starting elevation.\n",
    "\n",
    "<div class=\"alert alert-block alert-info\">\n",
    "For more detail on these scientific results, see the relevant <a href='https://github.com/eteq/catterplotpy'>literature</a>. The journal article is expected to appear in Nature on April 1, 2022.\n",
    "</div>"
   ]
  },
  {
   "cell_type": "markdown",
   "metadata": {
    "id": "WEMWeb9ey3eA"
   },
   "source": [
    "## Potential future *Felis Catus* modeling\n",
    "\n",
    "Development of a more complex model could perhaps answer additional questions, such as: \n",
    " * Does air-resistance come into play as velocity increases, and if so, then what sort of an impact does fluffy vs short-haired cat species have?\n",
    " * Could terminal velocity (where air resistance cancels out the acceleration due to gravity) be reached on the return trip to earth?\n",
    "   * What initial veritical leap velocity would be necessary to achieve this?\n",
    "   * Is it even possible to surprise *Felis Catus* sufficiently for that leap to occur?"
   ]
  },
  {
   "cell_type": "markdown",
   "metadata": {
    "id": "aRlPp2TGO8ch"
   },
   "source": [
    "# Provenance"
   ]
  },
  {
   "cell_type": "code",
   "execution_count": null,
   "metadata": {
    "colab": {
     "base_uri": "https://localhost:8080/"
    },
    "id": "9kck3NYKO8ci",
    "outputId": "eebfeeb2-ab28-423b-c77e-2240ab82ab5d"
   },
   "outputs": [],
   "source": [
    "print(datetime.now())"
   ]
  },
  {
   "cell_type": "code",
   "execution_count": null,
   "metadata": {
    "colab": {
     "base_uri": "https://localhost:8080/"
    },
    "id": "dRdCSYB7O8ci",
    "outputId": "7b03436e-114b-4f41-ad00-f7d4772ae344"
   },
   "outputs": [],
   "source": [
    "!pip3 freeze"
   ]
  },
  {
   "cell_type": "markdown",
   "metadata": {
    "id": "c_vAwF5jO8cj"
   },
   "source": [
    "Copyright 2022 The Broad Institute, Inc., Verily Life Sciences, LLC All rights reserved.\n",
    "\n",
    "This software may be modified and distributed under the terms of the BSD license. See the LICENSE file for details."
   ]
  }
 ],
 "metadata": {
  "colab": {
   "collapsed_sections": [],
   "name": "Copy of python-analysis-of-felis-catus-behavior.ipynb",
   "provenance": []
  },
  "kernelspec": {
   "display_name": "Python 3",
   "language": "python",
   "name": "python3"
  },
  "language_info": {
   "codemirror_mode": {
    "name": "ipython",
    "version": 3
   },
   "file_extension": ".py",
   "mimetype": "text/x-python",
   "name": "python",
   "nbconvert_exporter": "python",
   "pygments_lexer": "ipython3",
   "version": "3.7.12"
  },
  "toc": {
   "base_numbering": 1,
   "nav_menu": {},
   "number_sections": true,
   "sideBar": true,
   "skip_h1_title": false,
   "title_cell": "Table of Contents",
   "title_sidebar": "Contents",
   "toc_cell": false,
   "toc_position": {
    "height": "calc(100% - 180px)",
    "left": "10px",
    "top": "150px",
    "width": "247px"
   },
   "toc_section_display": true,
   "toc_window_display": true
  }
 },
 "nbformat": 4,
 "nbformat_minor": 1
}
