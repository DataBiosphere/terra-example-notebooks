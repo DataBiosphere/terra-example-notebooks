{
 "cells": [
  {
   "cell_type": "markdown",
   "metadata": {},
   "source": [
    "# Analysis of *Felis Catus* behavior\n",
    "\n",
    "In this notebook we explore the effect of surprises on cats."
   ]
  },
  {
   "cell_type": "markdown",
   "metadata": {},
   "source": [
    "# Setup"
   ]
  },
  {
   "cell_type": "code",
   "execution_count": null,
   "metadata": {},
   "outputs": [],
   "source": [
    "devtools::install_github('Gibbsdavidl/CatterPlots')"
   ]
  },
  {
   "cell_type": "code",
   "execution_count": null,
   "metadata": {},
   "outputs": [],
   "source": [
    "library(CatterPlots)\n",
    "library(tidyverse)"
   ]
  },
  {
   "cell_type": "markdown",
   "metadata": {},
   "source": [
    "# Data sampling and curation\n",
    "\n",
    "In the accompanying data table, you can see the data that was meticulously and rigorously collected in the *Felis Catus* behavior experiment. Elapsed time and elevation measurements were gathered from the *Felis Catus* [historical video records](https://www.youtube.com/watch?v=6U_XREUMOAU). \n",
    "\n",
    "Each of the samples obtained include the initial point of suprise, max elevation obtained, and final elevation.\n",
    "\n",
    "Samples with discontinous initial and final elevations (e.g. those of a cat leaping off of a bed or other furniture) were discarded for the purpose of this behavior analysis."
   ]
  },
  {
   "cell_type": "code",
   "execution_count": null,
   "metadata": {},
   "outputs": [],
   "source": [
    "data <- tibble(\n",
    "    'sample-name' = c('SC-01','SC-02','SC-03','SC-04','SC-05'),\n",
    "    'video-ts' = c('0:01:00','0:19:00','0:22:00','0:32:00','1:25:00'),\n",
    "    't-initial (ms)' =  c(0,0,0,0,0),\n",
    "    't-max (ms)' = c(249,350,300,305,250),\n",
    "    't-final (ms)' = c(500,700,620,635,485),\n",
    "    'max-elevation (mm)' = c(450,750,500,500,350))"
   ]
  },
  {
   "cell_type": "markdown",
   "metadata": {},
   "source": [
    "# Model creation\n",
    "\n",
    "We created a mathematical model of surprised *Felis Catus*<sup>*</sup> elevations over time, which closely matches the observed behavior, based upon simplified Newtonian physics.\n",
    "\n",
    "\n",
    "---\n",
    "\n",
    "\n",
    "\n",
    "\\* a surprised *Felis Catus* is perhaps more accurately named [*Miratus*](https://www.google.com/search?q=latin+Miratus+to+english&rlz=1CAOTWH_enUS896&sxsrf=APq-WBuOE6NGJE-cKAgk7J2wu2FE7w018g%3A1647822636169&ei=LMc3Yuj5BO6c0PEPw_q2wAw&ved=0ahUKEwjov4HX-dX2AhVuDjQIHUO9DcgQ4dUDCA4&uact=5&oq=latin+Miratus+to+english) *Felis Catus*"
   ]
  },
  {
   "cell_type": "code",
   "execution_count": null,
   "metadata": {},
   "outputs": [],
   "source": [
    "options(repr.plot.width=16, repr.plot.height=8)\n",
    "\n",
    "t <- seq(0, 500, length.out=20) # Units are in milliseconds (ms).\n",
    "g <- (9.8 * 1000) / (1000^2)   # Gravity (mm/ms**2).\n",
    "y0 <- 0           # Initial height of cat prior to surprise (mm).\n",
    "v0y <- 2.45       # Initial vertical velocity of suprised cat (mm/ms).\n",
    "\n",
    "y <- y0 + v0y * t - 1/2 * g * t^2\n",
    "\n",
    "purr <- catplot(xs = t, ys = y, cat = 3, size = 0.05, xlim = c(-10,500), ylim = c(-10,310),\n",
    "                cex.lab = 1.5, cex.axis = 1.5, cex.main = 2.0, cex.sub = 1.5,\n",
    "                xlab = 'time (ms)', ylab = 'cat elevation (mm)', main = 'Model of surprised cat')"
   ]
  },
  {
   "cell_type": "markdown",
   "metadata": {},
   "source": [
    "# Application of model to obtained data set\n",
    "\n",
    "Applying the model allows us to extrapolate intervening data points not recorded during initial data gathering, and to perform repeated theoretical experiments.  This likely would have been quite challenging to do with a real cat, as it is unlikely to have tolerated such shenanigans."
   ]
  },
  {
   "cell_type": "code",
   "execution_count": null,
   "metadata": {},
   "outputs": [],
   "source": [
    "options(repr.plot.width=16, repr.plot.height=8)\n",
    "\n",
    "## Append calculated landing velocity to dataframe and some aesthetics.\n",
    "data <- data %>% mutate(\n",
    "    'landing-velocity (mm/ms)' = 9.8 / 1000 * (`t-final (ms)` - `t-max (ms)`),\n",
    "    cat_shape = seq(1, nrow(data)),\n",
    "    cat_color = c('#33FCFF','#FF0000', '#0495EE','#EE7504', '#000000FF')\n",
    ")\n",
    "\n",
    "dim(data)"
   ]
  },
  {
   "cell_type": "code",
   "execution_count": null,
   "metadata": {},
   "outputs": [],
   "source": [
    "extrapolated_data <- pmap_dfr(data, function(`sample-name`, `video-ts`, `t-initial (ms)`, `t-max (ms)`,\n",
    "                                             `t-final (ms)`, `max-elevation (mm)`, `landing-velocity (mm/ms)`,\n",
    "                                             cat_shape, cat_color) {\n",
    "    t <- seq(0, `t-final (ms)`, length.out=20) # Units are in milliseconds (ms).\n",
    "    g <- (9.8 * 1000) / (1000^2)   # Gravity (mm/ms**2).\n",
    "    y0 <- 0           # Initial height of cat prior to surprise (mm).\n",
    "    v0y <- `landing-velocity (mm/ms)`       # Initial vertical velocity of suprised cat (mm/ms).\n",
    "    y <- y0 + v0y * t - 1/2 * g * t^2\n",
    "    tibble(\n",
    "        tt = t,\n",
    "        yy = y,\n",
    "        'sample-name' = `sample-name`,\n",
    "        'video-ts' = `video-ts`,\n",
    "        't-initial (ms)' =  `t-initial (ms)`,\n",
    "        't-max (ms)' = `t-max (ms)`,\n",
    "        't-final (ms)' = `t-final (ms)`,\n",
    "        'max-elevation (mm)' = `max-elevation (mm)`,\n",
    "        'landing-velocity (mm/ms)' = `landing-velocity (mm/ms)`,\n",
    "        cat_shape = cat_shape,\n",
    "        cat_color = cat_color\n",
    "    )\n",
    "})\n",
    "dim(extrapolated_data)"
   ]
  },
  {
   "cell_type": "code",
   "execution_count": null,
   "metadata": {},
   "outputs": [],
   "source": [
    "purr <- multicat(xs = extrapolated_data$tt, ys = extrapolated_data$yy,\n",
    "                cat = extrapolated_data$cat_shape, size = 0.05, catcolor = extrapolated_data$cat_color,\n",
    "                cex.lab = 1.5, cex.axis = 1.5, cex.main = 2.0, cex.sub = 1.5,\n",
    "                xlab = 'time (ms)', ylab = 'cat elevation (mm)', main = 'Surprised cats')"
   ]
  },
  {
   "cell_type": "markdown",
   "metadata": {},
   "source": [
    "# Discussion\n",
    "\n",
    "As you can see, when cats are surprised, the result is an initial rapid gain in elevation followed by a corresponding reduction in elevation. The elevation plateau observed at the temporal mid-point as cat velocity approaches zero, due to the constant deceleration applied to the cat by the force of gravity. It at this mid-point that max elevation is achieved. \n",
    "\n",
    "After reaching max elevation and with negligible air-resistance at these velocities, the cat will experience free-fall, aka zero gravity from the cat's frame of reference. Throughout the cat's descent, elevation decreases faster and faster as gravity accelerates them earthbound, until their velocity comes to a stop as they return to their initial starting elevation.\n",
    "\n",
    "<div class=\"alert alert-block alert-info\">\n",
    "For more detail on these scientific results, see the relevant <a href='https://github.com/Gibbsdavidl/CatterPlots'>literature</a>. The journal article is expected to appear in Nature on April 1, 2022.\n",
    "</div>"
   ]
  },
  {
   "cell_type": "markdown",
   "metadata": {},
   "source": [
    "## Potential future *Felis Catus* modeling\n",
    "\n",
    "Development of a more complex model could perhaps answer additional questions, such as: \n",
    " * Does air-resistance come into play as velocity increases, and if so, then what sort of an impact does fluffy vs short-haired cat species have?\n",
    " * Could terminal velocity (where air resistance cancels out the acceleration due to gravity) be reached on the return trip to earth?\n",
    "   * What initial veritical leap velocity would be necessary to achieve this?\n",
    "   * Is it even possible to surprise *Felis Catus* sufficiently for that leap to occur?"
   ]
  },
  {
   "cell_type": "markdown",
   "metadata": {},
   "source": [
    "# Provenance"
   ]
  },
  {
   "cell_type": "code",
   "execution_count": null,
   "metadata": {},
   "outputs": [],
   "source": [
    "devtools::session_info()"
   ]
  },
  {
   "cell_type": "markdown",
   "metadata": {},
   "source": [
    "Copyright 2022 The Broad Institute, Inc., Verily Life Sciences, LLC All rights reserved.\n",
    "\n",
    "This software may be modified and distributed under the terms of the BSD license. See the LICENSE file for details."
   ]
  }
 ],
 "metadata": {
  "kernelspec": {
   "display_name": "R",
   "language": "R",
   "name": "ir"
  },
  "language_info": {
   "codemirror_mode": "r",
   "file_extension": ".r",
   "mimetype": "text/x-r-source",
   "name": "R",
   "pygments_lexer": "r",
   "version": "4.1.2"
  },
  "toc": {
   "base_numbering": 1,
   "nav_menu": {},
   "number_sections": true,
   "sideBar": true,
   "skip_h1_title": false,
   "title_cell": "Table of Contents",
   "title_sidebar": "Contents",
   "toc_cell": false,
   "toc_position": {
    "height": "calc(100% - 180px)",
    "left": "10px",
    "top": "150px",
    "width": "336px"
   },
   "toc_section_display": true,
   "toc_window_display": true
  }
 },
 "nbformat": 4,
 "nbformat_minor": 2
}
