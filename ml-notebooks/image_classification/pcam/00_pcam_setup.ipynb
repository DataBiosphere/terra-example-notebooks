{
 "cells": [
  {
   "cell_type": "markdown",
   "metadata": {
    "id": "QHY2oH8Sc8ST"
   },
   "source": [
    "# Setup prior to running the PatchCamelyon ('pcam') example notebooks\n",
    "\n",
    "<!-- <table align=\"left\">\n",
    "\n",
    "  <td>\n",
    "    <a href=\"https://colab.research.google.com/github/GoogleCloudPlatform/vertex-ai-samples/blob/master/notebooks/notebook_template.ipynb\"\">\n",
    "      <img src=\"https://cloud.google.com/ml-engine/images/colab-logo-32px.png\" alt=\"Colab logo\"> Run in Colab\n",
    "    </a>\n",
    "  </td>\n",
    "  <td>\n",
    "    <a href=\"https://github.com/GoogleCloudPlatform/vertex-ai-samples/blob/master/notebooks/notebook_template.ipynb\">\n",
    "      <img src=\"https://cloud.google.com/ml-engine/images/github-logo-32px.png\" alt=\"GitHub logo\">\n",
    "      View on GitHub\n",
    "    </a>\n",
    "  </td>\n",
    "</table> -->"
   ]
  },
  {
   "cell_type": "markdown",
   "metadata": {
    "id": "tvgnzT1CKxrO"
   },
   "source": [
    "## Overview\n",
    "\n",
    "This notebook will walk you through some [Google Cloud Platform](https://cloud.google.com/) (GCP) project setup necessary for the PatchCamelyon ('pcam') image classification example notebooks. It is only necessary to run this setup notebook once.\n",
    "\n",
    "Many of the example notebooks require a ['native' GCP project'](https://support.terra.bio/hc/en-us/articles/360051229072-Accessing-advanced-GCP-features-in-Terra). Below, this notebook will walk you through the steps for:\n",
    "\n",
    "- creating (as necessary) a GCP project, and configuring it to be accessible from within your Terra workspace.\n",
    "- enabling the necessary Vertex AI and GCP APIs in the GCP project\n",
    "- setting up a service account with the correct _roles_ for the example notebooks\n",
    "- creating a Cloud Storage (GCS) bucket\n",
    "- (optionally) creating a Managed TensorBoard instance"
   ]
  },
  {
   "cell_type": "markdown",
   "metadata": {
    "id": "BF1j6f9HApxa"
   },
   "source": [
    "## Create a Google Cloud Platform project as necesary\n",
    "\n",
    "If you don't already have a Google Cloud Platform project that you want to use, follow the instructions [here](https://support.terra.bio/hc/en-us/articles/360051229072-Accessing-advanced-GCP-features-in-Terra) to create one.  You'll need to set up billing for the project to run these examples.\n",
    "\n",
    "### Add your Terra group to the GCP project\n",
    "\n",
    "Then add your Terra group on the GCP project as described [here](https://support.terra.bio/hc/en-us/articles/360051229072-Accessing-advanced-GCP-features-in-Terra#h_01ENRE2FPH7TCHHRFY7GCCZAGN).\n",
    "\n",
    "Note down the **Project ID** for your GCP project.  You will need it for the examples. You can find this info by visiting the [Home](https://console.cloud.google.com/home) panel in the project's Cloud Console.\n"
   ]
  },
  {
   "cell_type": "markdown",
   "metadata": {
    "id": "GVJybrDNUh0C"
   },
   "source": [
    "## Enable the APIs needed for the examples\n",
    "\n",
    "[Enable the Compute, Storage, and Vertex AI APIs](https://console.cloud.google.com/flows/enableapi?apiid=aiplatform.googleapis.com,storage-component.googleapis.com,compute.googleapis.com) for your GCP project.\n",
    "\n",
    "\n",
    "<!-- **TODO**: test with fresh project to make sure that there are no other requirements. -->"
   ]
  },
  {
   "cell_type": "markdown",
   "metadata": {
    "id": "zgPO1eR3CYjk"
   },
   "source": [
    "## Create a Cloud Storage bucket\n",
    "\n",
    "You will need a Cloud Storage (GCS) bucket in your project for this set of examples.\n",
    "\n",
    "You may have already [created a GCS bucket](https://support.terra.bio/hc/en-us/articles/360051229072-Accessing-advanced-GCP-features-in-Terra#h_01ENRE43JJYSFHNDC02YGWFYWJ) when following earlier setup instructions.  If not, set one up now, following those instructions.  It's preferable to use a bucket in the `us-central1` region, as that is the region used by default for in the examples.\n",
    "\n",
    "**Make note of your GCS bucket name**— you will need it for the examples."
   ]
  },
  {
   "cell_type": "markdown",
   "metadata": {
    "id": "jyeIvFmy3QwC"
   },
   "source": [
    "## Configure a GCP service account to use with the examples\n",
    "\n",
    "The example notebooks require Vertex AI jobs to be called using a [service account](https://cloud.google.com/iam/docs/service-accounts) with the relevant roles configured. \n",
    "It's good practice to use a service account given only the necessary roles.\n",
    "For these examples, you'll need a service configured as described [here](https://cloud.google.com/vertex-ai/docs/pipelines/configure-project), plus Storage Object Create and View permissions.\n",
    "\n",
    "For example, to create a new service account called `vertex-runner`, you can run the following set of `gcloud` commands to set it up. **Replace `<your-project-id>` with your own project id**.  \n",
    "This is straightforward to do from the GCP [Cloud Shell](https://cloud.google.com/shell), which can be accessed from the GCP Cloud Console.\n",
    "\n",
    "```sh\n",
    "gcloud iam service-accounts create vertex-runner  --project=<your-project-id>\n",
    "gcloud projects add-iam-policy-binding <your-project-id> --member=\"serviceAccount:vertex-runner@<your-project-id>.iam.gserviceaccount.com\" --role=\"roles/aiplatform.user\"\n",
    "gcloud projects add-iam-policy-binding <your-project-id> --member=\"serviceAccount:vertex-runner@<your-project-id>.iam.gserviceaccount.com\" --role=\"roles/iam.serviceAccountUser\"\n",
    "gcloud projects add-iam-policy-binding <your-project-id> --member=\"serviceAccount:vertex-runner@<your-project-id>.iam.gserviceaccount.com\" --role=\"roles/storage.objectViewer\"\n",
    "gcloud projects add-iam-policy-binding <your-project-id> --member=\"serviceAccount:vertex-runner@<your-project-id>.iam.gserviceaccount.com\" --role=\"roles/storage.objectCreator\"\n",
    "```\n",
    "\n",
    "Once you've created a service account, note its address— you'll need it for the examples."
   ]
  },
  {
   "cell_type": "markdown",
   "metadata": {
    "id": "XoEqT2Y4DJmf"
   },
   "source": [
    "## (Optional) Create a Vertex AI TensorBoard instance\n",
    "\n",
    "As you run the examples, you can monitor information about your training jobs using [TensorBoard](https://www.tensorflow.org/tensorboard).  An easy way to do this is via the managed Vertex AI TensorBoard service.\n",
    "\n",
    "Follow the instructions on [this page](https://cloud.google.com/vertex-ai/docs/experiments/tensorboard-overview) to set up a Vertex AI TensorBoard instance.\n",
    "\n",
    "Then, **note the TensorBoard instance name**, e.g. as described [here](https://cloud.google.com/vertex-ai/docs/experiments/tensorboard-overview#uploading_logs).  You'll need that info to use TensorBoard with the example notebooks.\n"
   ]
  },
  {
   "cell_type": "markdown",
   "metadata": {
    "id": "RpWnhduZWZMX"
   },
   "source": [
    "--------------------------------\n",
    "Copyright 2021 Verily Life Sciences LLC\n",
    "\n",
    "Use of this source code is governed by a BSD-style  \n",
    "license that can be found in the LICENSE file or at  \n",
    "https://developers.google.com/open-source/licenses/bsd"
   ]
  }
 ],
 "metadata": {
  "colab": {
   "collapsed_sections": [],
   "name": "00_pcam_setup.ipynb",
   "provenance": [],
   "toc_visible": true
  },
  "environment": {
   "kernel": "python3",
   "name": "tf2-gpu.2-7.m87",
   "type": "gcloud",
   "uri": "gcr.io/deeplearning-platform-release/tf2-gpu.2-7:m87"
  },
  "kernelspec": {
   "display_name": "Python 3",
   "language": "python",
   "name": "python3"
  },
  "language_info": {
   "codemirror_mode": {
    "name": "ipython",
    "version": 3
   },
   "file_extension": ".py",
   "mimetype": "text/x-python",
   "name": "python",
   "nbconvert_exporter": "python",
   "pygments_lexer": "ipython3",
   "version": "3.7.12"
  },
  "toc": {
   "base_numbering": 1,
   "nav_menu": {},
   "number_sections": true,
   "sideBar": true,
   "skip_h1_title": false,
   "title_cell": "Table of Contents",
   "title_sidebar": "Contents",
   "toc_cell": false,
   "toc_position": {},
   "toc_section_display": true,
   "toc_window_display": true
  }
 },
 "nbformat": 4,
 "nbformat_minor": 4
}
