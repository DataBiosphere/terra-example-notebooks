{
 "cells": [
  {
   "cell_type": "markdown",
   "metadata": {
    "id": "AksIKBzZ-nre"
   },
   "source": [
    "# Using Vertex AI Vizier to optimize multiple objectives\n",
    "\n",
    "\n",
    "## Introduction\n",
    "\n",
    "This example demonstrates [Vertex AI Vizier](https://cloud.google.com/vertex-ai/docs/vizier/overview) multi-objective optimization. Multi-objective optimization is concerned with mathematical optimization problems involving more than one objective function to be optimized simultaneously. \n",
    "Vertex AI Vizier is a black-box optimization service. You will often see Vertex AI Vizier used to optimize hyperparameters of ML models, but it can also perform other optimization tasks— as illustrated by this example.\n",
    "\n",
    "You can use the default Terra Cloud Environment for this example.\n",
    "\n",
    "### 'Native' GCP project required\n",
    "\n",
    "This example requires a ['native' GCP project](https://support.terra.bio/hc/en-us/articles/360051229072-Accessing-advanced-GCP-features-in-Terra).  The Vizier service will be run using that project, not your Terra workspace project.\n",
    "\n",
    "### Optimization objective\n",
    "\n",
    "The goal is to __`minimize`__ the objective metric:\n",
    "   ```\n",
    "   y1 = r*sin(theta)\n",
    "   ```\n",
    "\n",
    "and simultaneously __`maximize`__ the objective metric:\n",
    "   ```\n",
    "   y2 = r*cos(theta)\n",
    "   ```\n",
    "\n",
    "that you will evaluate over the parameter space:\n",
    "\n",
    "   - __`r`__ in [0,1],\n",
    "\n",
    "   - __`theta`__ in [0, pi/2]\n",
    "   \n",
    "### Overview of running a Vizier *study*\n",
    "\n",
    "Here is an overview of the process for setting up and running a Vizier study. The specifics are in the code below.\n",
    "\n",
    "- Create a *study* configuration. This includes info on the parameter(s) that you want to tune,your objective metric(s), and the HP search algorithm to use.\n",
    "- Create a Vizier client object via the `aiplatform` library, which you'll use to interact with the service.\n",
    "- Create a Vizier *study* via the client object\n",
    "- Define function(s) to evaluate the objective metric(s).\n",
    "- Run the trials by interacting with the Vizier client to get \"suggested\" trial param sets. Run your evaluation functions using the suggested trial param sets.\n",
    "- Record the outcome of a given trial with the Vizier client. You use a `client_id` to indicate the identifier of the client that is requesting the suggestion. If multiple suggestion requests have the same `client_id`, the service will return the identical suggested trial if the trial is `PENDING`, and provide a new trial if the last suggested trial was completed.\n",
    "- Request information from Vizier about the optimal trials. It returns the pareto-optimal trials for a multi-objective study, or the optimal trials for a single-objective study.   \n",
    "\n",
    "### Costs\n",
    "\n",
    "This tutorial uses Vertex AI Vizier. Pricing information is [here](https://cloud.google.com/vertex-ai/pricing#vizier).\n",
    "For this simple example, which uses `RANDOM_SEARCH`, there should not be a charge to your 'native' GCP project.\n"
   ]
  },
  {
   "cell_type": "markdown",
   "metadata": {
    "id": "iMHz63rPbq6P"
   },
   "source": [
    "## Setup\n",
    "\n",
    "### Install the Vertex AI library\n",
    "\n",
    "Download and install the Vertex AI library. (On the default Terra image, this should already be installed, though this command will update it if need be)."
   ]
  },
  {
   "cell_type": "code",
   "execution_count": null,
   "metadata": {
    "id": "g7WlujNxbq6Q"
   },
   "outputs": [],
   "source": [
    "! unset PIP_TARGET ; pip install --user --upgrade google-cloud-aiplatform"
   ]
  },
  {
   "cell_type": "code",
   "execution_count": null,
   "metadata": {
    "id": "O8AIwN0abq6U"
   },
   "outputs": [],
   "source": [
    "# Restart the kernel after pip installs\n",
    "import IPython\n",
    "\n",
    "app = IPython.Application.instance()\n",
    "app.kernel.do_shutdown(True)"
   ]
  },
  {
   "cell_type": "markdown",
   "metadata": {
    "id": "Xc9LnICki2Xp"
   },
   "source": [
    "### Set up your 'native' Google Cloud project\n",
    "\n",
    "1. If you have not already done so, follow the instructions [here](https://support.terra.bio/hc/en-us/articles/360051229072-Accessing-advanced-GCP-features-in-Terra) for a GCP project, including creating a Terra group as necessary, and then adding your Terra group on the Google project. You'll need to enable billing as described in the article.\n",
    "\n",
    "2. Then, [enable the Vertex AI APIs](https://console.cloud.google.com/flows/enableapi?apiid=aiplatform.googleapis.com) for your project.\n",
    "\n",
    "You'll need to fill in the project ID for your native project in the next cell.\n"
   ]
  },
  {
   "cell_type": "markdown",
   "metadata": {
    "id": "Dax2zrpTi2Xy"
   },
   "source": [
    "### Import libraries and define constants"
   ]
  },
  {
   "cell_type": "markdown",
   "metadata": {},
   "source": [
    "**Before you run the following cell**, set the `PROJECT_ID` for your ['native' GCP project](https://support.terra.bio/hc/en-us/articles/360051229072-Accessing-advanced-GCP-features-in-Terra)."
   ]
  },
  {
   "cell_type": "code",
   "execution_count": null,
   "metadata": {},
   "outputs": [],
   "source": [
    "REGION = \"us-central1\"\n",
    "# Set your 'native' GCP project ID here, NOT your workspace project ID\n",
    "PROJECT_ID = \"YOUR-NATIVE-PROJECT-ID\"  # CHANGE THIS"
   ]
  },
  {
   "cell_type": "code",
   "execution_count": null,
   "metadata": {
    "id": "xD60d6Q0i2X0"
   },
   "outputs": [],
   "source": [
    "import datetime\n",
    "import json\n",
    "\n",
    "from google.cloud import aiplatform"
   ]
  },
  {
   "cell_type": "markdown",
   "metadata": {
    "id": "CWuu4wmki2X3"
   },
   "source": [
    "## Define and run a Vizier *study*\n"
   ]
  },
  {
   "cell_type": "markdown",
   "metadata": {
    "id": "KyEjqIdnad0w"
   },
   "source": [
    "Set some variables.  Ensure that your `PROJECT_ID` is set correctly."
   ]
  },
  {
   "cell_type": "code",
   "execution_count": null,
   "metadata": {
    "id": "8HCgeF8had77"
   },
   "outputs": [],
   "source": [
    "STUDY_DISPLAY_NAME = \"{}_study_{}\".format(\n",
    "    PROJECT_ID.replace(\"-\", \"\"), datetime.datetime.now().strftime(\"%Y%m%d_%H%M%S\")\n",
    ")  # @param {type: 'string'}\n",
    "ENDPOINT = REGION + \"-aiplatform.googleapis.com\"\n",
    "PARENT = \"projects/{}/locations/{}\".format(PROJECT_ID, REGION)\n",
    "\n",
    "print(\"ENDPOINT: {}\".format(ENDPOINT))\n",
    "print(\"REGION: {}\".format(REGION))\n",
    "print(\"PARENT: {}\".format(PARENT))"
   ]
  },
  {
   "cell_type": "markdown",
   "metadata": {
    "id": "8NBduXsEaRKr"
   },
   "source": [
    "### Create the *study* configuration\n",
    "\n",
    "The study configuration is built as a hierarchical python dictionary. It is already filled out. Run the cell to configure the study."
   ]
  },
  {
   "cell_type": "code",
   "execution_count": null,
   "metadata": {
    "id": "s-AHfPOASXXW"
   },
   "outputs": [],
   "source": [
    "# Parameter Configuration\n",
    "\n",
    "param_r = {\"parameter_id\": \"r\", \"double_value_spec\": {\"min_value\": 0, \"max_value\": 1}}\n",
    "\n",
    "param_theta = {\n",
    "    \"parameter_id\": \"theta\",\n",
    "    \"double_value_spec\": {\"min_value\": 0, \"max_value\": 1.57},\n",
    "}\n",
    "\n",
    "# Objective Metrics\n",
    "metric_y1 = {\"metric_id\": \"y1\", \"goal\": \"MINIMIZE\"}\n",
    "\n",
    "# Objective Metrics\n",
    "metric_y2 = {\"metric_id\": \"y2\", \"goal\": \"MAXIMIZE\"}\n",
    "\n",
    "# Put it all together in a study configuration\n",
    "study = {\n",
    "    \"display_name\": STUDY_DISPLAY_NAME,\n",
    "    \"study_spec\": {\n",
    "        \"algorithm\": \"RANDOM_SEARCH\",\n",
    "        \"parameters\": [\n",
    "            param_r,\n",
    "            param_theta,\n",
    "        ],\n",
    "        \"metrics\": [metric_y1, metric_y2],\n",
    "    },\n",
    "}\n",
    "\n",
    "print(json.dumps(study, indent=2, sort_keys=True))"
   ]
  },
  {
   "cell_type": "markdown",
   "metadata": {
    "id": "uyXG_RKha7Kb"
   },
   "source": [
    "### Create the Vizier *study*\n",
    "\n",
    "Next, create the study.  You'll run it below, to optimize the two objectives."
   ]
  },
  {
   "cell_type": "code",
   "execution_count": null,
   "metadata": {
    "id": "jgskzqZX0Mkt"
   },
   "outputs": [],
   "source": [
    "vizier_client = aiplatform.gapic.VizierServiceClient(\n",
    "    client_options=dict(api_endpoint=ENDPOINT)\n",
    ")\n",
    "study = vizier_client.create_study(parent=PARENT, study=study)\n",
    "STUDY_ID = study.name\n",
    "print(\"STUDY_ID: {}\".format(STUDY_ID))"
   ]
  },
  {
   "cell_type": "markdown",
   "metadata": {
    "id": "dKOMBKmtkcJb"
   },
   "source": [
    "### Metric evaluation functions\n",
    "\n",
    "Next, define some functions to evaluate the two objective metrics."
   ]
  },
  {
   "cell_type": "code",
   "execution_count": null,
   "metadata": {
    "id": "Xnl1uqnyz3Qp"
   },
   "outputs": [],
   "source": [
    "import math\n",
    "\n",
    "\n",
    "# r * sin(theta)\n",
    "def Metric1Evaluation(r, theta):\n",
    "    \"\"\"Evaluate the first metric on the trial.\"\"\"\n",
    "    return r * math.sin(theta)\n",
    "\n",
    "\n",
    "# r * cos(theta)\n",
    "def Metric2Evaluation(r, theta):\n",
    "    \"\"\"Evaluate the second metric on the trial.\"\"\"\n",
    "    return r * math.cos(theta)\n",
    "\n",
    "\n",
    "def CreateMetrics(trial_id, r, theta):\n",
    "    print((\"=========== Start Trial: [{}] =============\").format(trial_id))\n",
    "\n",
    "    # Evaluate both objective metrics for this trial\n",
    "    y1 = Metric1Evaluation(r, theta)\n",
    "    y2 = Metric2Evaluation(r, theta)\n",
    "    print(\n",
    "        \"[r = {}, theta = {}] => y1 = r*sin(theta) = {}, y2 = r*cos(theta) = {}\".format(\n",
    "            r, theta, y1, y2\n",
    "        )\n",
    "    )\n",
    "    metric1 = {\"metric_id\": \"y1\", \"value\": y1}\n",
    "    metric2 = {\"metric_id\": \"y2\", \"value\": y2}\n",
    "\n",
    "    # Return the results for this trial\n",
    "    return [metric1, metric2]"
   ]
  },
  {
   "cell_type": "markdown",
   "metadata": {
    "id": "Qzn5lVpRq05U"
   },
   "source": [
    "### Set configuration parameters for running trials\n",
    "\n",
    "__`client_id`__: The identifier of the client that is requesting the suggestion. If multiple suggestion requests have the same `client_id`, the service will return the identical suggested trial if the trial is `PENDING`, and provide a new trial if the last suggested trial was completed.\n",
    "\n",
    "__`suggestion_count_per_request`__: The number of suggestions (trials) requested in a single request.\n",
    "\n",
    "__`max_trial_id_to_stop`__: The number of trials to explore before stopping. It is set to 15 to shorten the time to run the example, so it is not expected to converge. For convergence, it would likely need to be about 20 (a good rule of thumb is to multiply the total dimensionality by 10).\n"
   ]
  },
  {
   "cell_type": "code",
   "execution_count": null,
   "metadata": {
    "id": "5usXaZA5qvUZ"
   },
   "outputs": [],
   "source": [
    "client_id = \"client1\"\n",
    "suggestion_count_per_request = 5\n",
    "max_trial_id_to_stop = 15\n",
    "\n",
    "print(\"client_id: {}\".format(client_id))\n",
    "print(\"suggestion_count_per_request: {}\".format(suggestion_count_per_request))\n",
    "print(\"max_trial_id_to_stop: {}\".format(max_trial_id_to_stop))"
   ]
  },
  {
   "cell_type": "markdown",
   "metadata": {
    "id": "UnV2SJNskm7V"
   },
   "source": [
    "### Run Vertex Vizier trials\n",
    "\n",
    "Run the trials."
   ]
  },
  {
   "cell_type": "code",
   "execution_count": null,
   "metadata": {
    "id": "opmuTntW4-eS"
   },
   "outputs": [],
   "source": [
    "trial_id = 0\n",
    "while int(trial_id) < max_trial_id_to_stop:\n",
    "    suggest_response = vizier_client.suggest_trials(\n",
    "        {\n",
    "            \"parent\": STUDY_ID,\n",
    "            \"suggestion_count\": suggestion_count_per_request,\n",
    "            \"client_id\": client_id,\n",
    "        }\n",
    "    )\n",
    "\n",
    "    for suggested_trial in suggest_response.result().trials:\n",
    "        trial_id = suggested_trial.name.split(\"/\")[-1]\n",
    "        trial = vizier_client.get_trial({\"name\": suggested_trial.name})\n",
    "\n",
    "        if trial.state in [\"COMPLETED\", \"INFEASIBLE\"]:\n",
    "            continue\n",
    "\n",
    "        for param in trial.parameters:\n",
    "            if param.parameter_id == \"r\":\n",
    "                r = param.value\n",
    "            elif param.parameter_id == \"theta\":\n",
    "                theta = param.value\n",
    "        print(\"Trial : r is {}, theta is {}.\".format(r, theta))\n",
    "\n",
    "        vizier_client.add_trial_measurement(\n",
    "            {\n",
    "                \"trial_name\": suggested_trial.name,\n",
    "                \"measurement\": {\n",
    "                    \"metrics\": CreateMetrics(suggested_trial.name, r, theta)\n",
    "                },\n",
    "            }\n",
    "        )\n",
    "\n",
    "        response = vizier_client.complete_trial(\n",
    "            {\"name\": suggested_trial.name, \"trial_infeasible\": False}\n",
    "        )"
   ]
  },
  {
   "cell_type": "markdown",
   "metadata": {
    "id": "i5ZTqgqBiRsq"
   },
   "source": [
    "### List the optimal solutions\n",
    "\n",
    "`list_optimal_trials` returns the [pareto-optimal](https://en.wikipedia.org/wiki/Pareto_efficiency) trials for a multi-objective study, or the optimal trials for single-objective study. For this example, since we defined a multi-objective study, pareto-optimal trials will be returned."
   ]
  },
  {
   "cell_type": "code",
   "execution_count": null,
   "metadata": {
    "id": "Or2PL1YxTr33"
   },
   "outputs": [],
   "source": [
    "optimal_trials = vizier_client.list_optimal_trials({\"parent\": STUDY_ID})\n",
    "\n",
    "print(\"optimal_trials: {}\".format(optimal_trials))"
   ]
  },
  {
   "cell_type": "markdown",
   "metadata": {},
   "source": [
    "### View your trial results in the Vertex AI UI\n",
    "\n",
    "To view and compare your trial results, you can visit the [Vertex AI \"Experiments\" panel](https://console.cloud.google.com/vertex-ai/experiments/experiments) in the GCP Cloud Console, then click on the **VIZIER STUDIES** tab. From there, click in to a \"Study name\".\n",
    "\n",
    "You can view info about the trial metrics as they are run."
   ]
  },
  {
   "cell_type": "markdown",
   "metadata": {
    "id": "KAxfq9Fri2YV"
   },
   "source": [
    "## Listing, fetching, and deleting studies\n",
    "\n"
   ]
  },
  {
   "cell_type": "code",
   "execution_count": null,
   "metadata": {},
   "outputs": [],
   "source": [
    "# To list studies in a specific project and region, send the following request:\n",
    "\n",
    "vizier_client.list_studies({\"parent\": PARENT})"
   ]
  },
  {
   "cell_type": "code",
   "execution_count": null,
   "metadata": {},
   "outputs": [],
   "source": [
    "# To get a study, send the following request:\n",
    "\n",
    "vizier_client.get_study({\"name\": STUDY_NAME})"
   ]
  },
  {
   "cell_type": "code",
   "execution_count": null,
   "metadata": {
    "id": "zQlLDfvlzYde"
   },
   "outputs": [],
   "source": [
    "# To delete a study:\n",
    "vizier_client.delete_study({\"name\": STUDY_ID})"
   ]
  },
  {
   "cell_type": "markdown",
   "metadata": {
    "id": "7fPc-KWUi2Xd"
   },
   "source": [
    "---\n",
    "Copyright 2022 Verily Life Sciences LLC\n",
    "\n",
    "Use of this source code is governed by a BSD-style    \n",
    "license that can be found in the LICENSE file or at    \n",
    "https://developers.google.com/open-source/licenses/bsd"
   ]
  }
 ],
 "metadata": {
  "colab": {
   "collapsed_sections": [],
   "name": "gapic-vizier-multi-objective-optimization.ipynb",
   "toc_visible": true
  },
  "kernelspec": {
   "display_name": "Python 3",
   "language": "python",
   "name": "python3"
  },
  "language_info": {
   "codemirror_mode": {
    "name": "ipython",
    "version": 3
   },
   "file_extension": ".py",
   "mimetype": "text/x-python",
   "name": "python",
   "nbconvert_exporter": "python",
   "pygments_lexer": "ipython3",
   "version": "3.8.9"
  },
  "toc": {
   "base_numbering": 1,
   "nav_menu": {},
   "number_sections": true,
   "sideBar": true,
   "skip_h1_title": false,
   "title_cell": "Table of Contents",
   "title_sidebar": "Contents",
   "toc_cell": false,
   "toc_position": {},
   "toc_section_display": true,
   "toc_window_display": true
  }
 },
 "nbformat": 4,
 "nbformat_minor": 4
}
